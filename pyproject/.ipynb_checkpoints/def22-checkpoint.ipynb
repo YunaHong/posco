{
 "cells": [
  {
   "cell_type": "code",
   "execution_count": 125,
   "id": "a0405d24-886b-412c-937d-8cd5f07f7f86",
   "metadata": {},
   "outputs": [
    {
     "name": "stdout",
     "output_type": "stream",
     "text": [
      "-f\n"
     ]
    }
   ],
   "source": [
    "import sys \n",
    "file_name = sys.argv[1]\n",
    "\n",
    "print(file_name)\n",
    "\n",
    "title = \"{:^9}\\t{:>18}\\t{:^15}\\t{:^15}\\t{:^15}\\t{:^15}\\n\".format(\"Student\", \"Name\", \"Midterm\", \"Final\", \"Average\", \"Grade\")\n",
    "lines = \"----------\" * 10 + \"\\n\"\n",
    "    "
   ]
  },
  {
   "cell_type": "code",
   "execution_count": 126,
   "id": "6ba06744-8a00-4ab8-9597-988c0f9e740b",
   "metadata": {},
   "outputs": [],
   "source": [
    "def avg(m,f):\n",
    "    return str((m+f)/2)\n"
   ]
  },
  {
   "cell_type": "code",
   "execution_count": 127,
   "id": "bc7eb5ed-5d2a-4065-9d3f-4d814ac610a4",
   "metadata": {},
   "outputs": [],
   "source": [
    "\n",
    "\n",
    "def grade(avg):\n",
    "    if avg < 60:\n",
    "        return \"F\"\n",
    "    elif avg < 70:\n",
    "        return \"D\"\n",
    "    elif avg < 80:\n",
    "        return \"C\"\n",
    "    elif avg < 90:\n",
    "        return \"B\"\n",
    "    else: \n",
    "        return \"A\"\n",
    "\n"
   ]
  },
  {
   "cell_type": "code",
   "execution_count": 128,
   "id": "60dc8b6b-821d-4868-b434-252573240d5e",
   "metadata": {},
   "outputs": [
    {
     "name": "stdout",
     "output_type": "stream",
     "text": [
      "20180001\tHong Gildong\t84\t73\n",
      "\n",
      "20180002\tLee Jieun\t92\t89\n",
      "\n",
      "20180007\tKim Cheolsu\t57\t62\n",
      "\n",
      "20180009\tLee Yeonghee\t81\t84\n",
      "\n",
      "20180011\tHa Donghun\t58\t68\n",
      "\n",
      "[['20180002', 'Lee Jieun', '92', '89', '90.5', 'A'], ['20180009', 'Lee Yeonghee', '81', '84', '82.5', 'B'], ['20180001', 'Hong Gildong', '84', '73', '78.5', 'C'], ['20180011', 'Ha Donghun', '58', '68', '63.0', 'D'], ['20180007', 'Kim Cheolsu', '57', '62', '59.5', 'F']]\n"
     ]
    }
   ],
   "source": [
    "######리스트 구축, #받아오는 파일 수정할 것. \n",
    "slist =[]\n",
    "f = open(\"students.txt\",\"r\")\n",
    "#f = open(\"analy.txt\",\"r\")\n",
    "cnt = 0\n",
    "for l in f:\n",
    "    slist.append(l.split(\"\\n\"))  \n",
    "    print(l)\n",
    "for i in range(0,len(slist)):\n",
    "    temp = slist[i][0]\n",
    "\n",
    "    slist[i]=temp.split(\"\\t\") #이중리스트 열 0:id, 1:이름 2:중간 3:기말 \n",
    "    try:\n",
    "        slist[i][4]\n",
    "    except:\n",
    "        slist[i].append(avg(int(slist[i][2]),int(slist[i][3])))\n",
    "        slist[i].append(grade(float(slist[i][4])))\n",
    "    \n",
    "\n",
    "slist.sort(key = lambda x : float(x[4]), reverse = True)\n",
    "    \n",
    "print(slist)\n",
    "f.close()"
   ]
  },
  {
   "cell_type": "code",
   "execution_count": 129,
   "id": "7c584931-9735-4a77-b3e6-63c52704b0cf",
   "metadata": {},
   "outputs": [],
   "source": [
    "def show():\n",
    "    data = \"\"\n",
    "    title = \"{:^9}\\t{:>18}\\t{:^15}\\t{:^15}\\t{:^15}\\t{:^15}\\n\".format(\"Student\", \"Name\", \"Midterm\", \"Final\", \"Average\", \"Grade\")\n",
    "    lines = \"----------\" * 10 + \"\\n\"\n",
    "    \n",
    "    for i in range(0,len(slist)):\n",
    "        data += \"{:^9}\\t{:>18}\\t{:^15}\\t{:^15}\\t{:^15}\\t{:^15}\\n\".format(slist[i][0],slist[i][1],slist[i][2],slist[i][3],slist[i][4],slist[i][5])\n",
    "    print(title,lines , end = \"\")\n",
    "    print(data)\n",
    "\n",
    "def show_i(i):\n",
    "    print(title,lines , end = \"\")\n",
    "    data = \"{:^9}\\t{:>18}\\t{:^15}\\t{:^15}\\t{:^15}\\t{:^15}\\n\".format(slist[i][0],slist[i][1],slist[i][2],slist[i][3],slist[i][4],slist[i][5])\n",
    "    print(data)\n"
   ]
  },
  {
   "cell_type": "code",
   "execution_count": 130,
   "id": "993b9c1e-7f6a-4219-b036-bff5359e8afd",
   "metadata": {},
   "outputs": [
    {
     "name": "stdout",
     "output_type": "stream",
     "text": [
      " Student \t              Name\t    Midterm    \t     Final     \t    Average    \t     Grade     \n",
      " ----------------------------------------------------------------------------------------------------\n",
      "20180002 \t         Lee Jieun\t      92       \t      89       \t     90.5      \t       A       \n",
      "20180009 \t      Lee Yeonghee\t      81       \t      84       \t     82.5      \t       B       \n",
      "20180001 \t      Hong Gildong\t      84       \t      73       \t     78.5      \t       C       \n",
      "20180011 \t        Ha Donghun\t      58       \t      68       \t     63.0      \t       D       \n",
      "20180007 \t       Kim Cheolsu\t      57       \t      62       \t     59.5      \t       F       \n",
      "\n"
     ]
    }
   ],
   "source": [
    "show()"
   ]
  },
  {
   "cell_type": "code",
   "execution_count": 131,
   "id": "35df9519-37e8-4a85-8a49-58e6ebfd81ea",
   "metadata": {},
   "outputs": [],
   "source": [
    "def quit(): \n",
    "    sv = input(\"Save Data?[yes/no]\")\n",
    "    if sv == \"yes\":\n",
    "        file_name = input(\"File Name:\")\n",
    "        f = open(file_name,\"w\")\n",
    "        data = \"\"\n",
    "        for i in range(0,len(slist)):\n",
    "            data += \"{}\\t{}\\t{}\\t{}\\n\".format(slist[i][0],slist[i][1],slist[i][2],slist[i][3])\n",
    "    \n",
    "        f.write(data)\n",
    "        f.close()"
   ]
  },
  {
   "cell_type": "code",
   "execution_count": 132,
   "id": "eb8cc3be-5420-4d1d-8289-4e910bbd876f",
   "metadata": {},
   "outputs": [
    {
     "name": "stdin",
     "output_type": "stream",
     "text": [
      "Save Data?[yes/no] no\n"
     ]
    }
   ],
   "source": [
    "quit()"
   ]
  },
  {
   "cell_type": "code",
   "execution_count": 133,
   "id": "ef24b4ad-16c0-4e33-a7ab-19488186cdea",
   "metadata": {},
   "outputs": [],
   "source": [
    "#search\n",
    "def search():\n",
    "    target = input(\"Student ID:\")\n",
    "    #target = '20180009'\n",
    "    i = 0\n",
    "    for i in range(0,len(slist)):\n",
    "        if target == slist[i][0] :\n",
    "            print(title,lines , end = \"\")\n",
    "            print(\"{:^9}\\t{:>18}\\t{:^15}\\t{:^15}\\t{:^15}\\t{:^15}\\n\".format(slist[i][0],slist[i][1],slist[i][2],slist[i][3],slist[i][4],slist[i][5]))\n",
    "        #print(target)\n",
    "        #print() 파일 불러와서 한줄 한 줄 읽어서!\\\n",
    "            return i #return i\n",
    "        if i == (len(slist)) - 1 :\n",
    "            print(\"NO SUCH PERSON.\")\n",
    "            return -1\n",
    "\n",
    "def get_i():\n",
    "    target = input(\"Student ID:\")\n",
    "    #target = '20180009'\n",
    "    i = 0\n",
    "    for i in range(0,len(slist)):\n",
    "        if target == slist[i][0] :\n",
    "            return i #return i\n",
    "        if i == (len(slist)) - 1 :\n",
    "            print(\"NO SUCH PERSON.\")\n",
    "            return -1\n",
    "\n"
   ]
  },
  {
   "cell_type": "code",
   "execution_count": 134,
   "id": "6cf35fb8-d653-4941-b24b-1cfd15312cde",
   "metadata": {},
   "outputs": [
    {
     "name": "stdin",
     "output_type": "stream",
     "text": [
      "Student ID: 20180009\n"
     ]
    },
    {
     "name": "stdout",
     "output_type": "stream",
     "text": [
      " Student \t              Name\t    Midterm    \t     Final     \t    Average    \t     Grade     \n",
      " ----------------------------------------------------------------------------------------------------\n",
      "20180009 \t      Lee Yeonghee\t      81       \t      84       \t     82.5      \t       B       \n",
      "\n",
      "1\n"
     ]
    }
   ],
   "source": [
    "print(search())"
   ]
  },
  {
   "cell_type": "code",
   "execution_count": 147,
   "id": "2b429446-3d28-40ce-8e7e-cc4ef5544e27",
   "metadata": {},
   "outputs": [
    {
     "name": "stdin",
     "output_type": "stream",
     "text": [
      "Student ID: 20180001\n",
      "Mid/Final? mid\n",
      "Input New Score: 1\n"
     ]
    },
    {
     "name": "stdout",
     "output_type": "stream",
     "text": [
      " Student \t              Name\t    Midterm    \t     Final     \t    Average    \t     Grade     \n",
      " ----------------------------------------------------------------------------------------------------\n",
      "20180001 \t      Hong Gildong\t      84       \t      73       \t     78.5      \t       C       \n",
      "\n",
      "Score Changed.\n",
      " Student \t              Name\t    Midterm    \t     Final     \t    Average    \t     Grade     \n",
      " ----------------------------------------------------------------------------------------------------\n",
      "20180001 \t      Hong Gildong\t       1       \t      73       \t     37.0      \t       F       \n",
      "\n"
     ]
    }
   ],
   "source": [
    "#changescore  인풋값 들어온 다음에 showing\n",
    "index = get_i()\n",
    "if index >= 0 :\n",
    "    which_sc = input(\"Mid/Final?\")\n",
    "\n",
    "    if which_sc.lower() == \"mid\":\n",
    "        new_sc = input(\"Input New Score:\")\n",
    "        while (float(new_sc)>100) or (float(new_sc)<0) :\n",
    "            new_sc = input(\"Input New Score:\")\n",
    "        show_i(index)\n",
    "        slist[index][2] = new_sc\n",
    "        slist[index][4] = avg(int(slist[index][2]),int(slist[index][3]))\n",
    "        slist[index][5] = grade(float(slist[index][4]))\n",
    "        print(\"Score Changed.\")\n",
    "        show_i(index)\n",
    "    \n",
    "    elif which_sc.lower() == \"final\" :\n",
    "        new_sc = input(\"Input New Score:\")\n",
    "        while (float(new_sc)>100) or (float(new_sc)<0) :\n",
    "            new_sc = input(\"Input New Score:\")\n",
    "        show_i(index)\n",
    "        print(new_sc)\n",
    "        slist[index][3] = new_sc\n",
    "        slist[index][4] = avg(int(slist[index][2]),int(slist[index][3]))\n",
    "        slist[index][5] = grade(float(slist[index][4]))\n",
    "        print(\"Score Changed.\")\n",
    "        show_i(index)\n",
    "    else:\n",
    "        \n",
    "        print(\"write down correctly\")\n",
    "\n",
    "    slist.sort(key = lambda x : float(x[4]), reverse = True)    \n",
    "   # print(slist[index])\n",
    "    "
   ]
  },
  {
   "cell_type": "code",
   "execution_count": 148,
   "id": "27291a2a-4dec-4470-aa38-9c7154da051c",
   "metadata": {
    "scrolled": true
   },
   "outputs": [
    {
     "name": "stdout",
     "output_type": "stream",
     "text": [
      " Student \t              Name\t    Midterm    \t     Final     \t    Average    \t     Grade     \n",
      " ----------------------------------------------------------------------------------------------------\n",
      "20180002 \t         Lee Jieun\t      92       \t      90       \t     91.0      \t       A       \n",
      "20180011 \t        Ha Donghun\t      58       \t      68       \t     63.0      \t       D       \n",
      "20180007 \t       Kim Cheolsu\t      57       \t      62       \t     59.5      \t       F       \n",
      "20180009 \t      Lee Yeonghee\t       3       \t      84       \t     43.5      \t       F       \n",
      "20180001 \t      Hong Gildong\t       1       \t      73       \t     37.0      \t       F       \n",
      "\n"
     ]
    }
   ],
   "source": [
    "show()"
   ]
  },
  {
   "cell_type": "code",
   "execution_count": null,
   "id": "05062717-9765-4bf4-a9a9-98a72aad5590",
   "metadata": {},
   "outputs": [],
   "source": []
  }
 ],
 "metadata": {
  "kernelspec": {
   "display_name": "Python 3 (ipykernel)",
   "language": "python",
   "name": "python3"
  },
  "language_info": {
   "codemirror_mode": {
    "name": "ipython",
    "version": 3
   },
   "file_extension": ".py",
   "mimetype": "text/x-python",
   "name": "python",
   "nbconvert_exporter": "python",
   "pygments_lexer": "ipython3",
   "version": "3.10.13"
  }
 },
 "nbformat": 4,
 "nbformat_minor": 5
}
