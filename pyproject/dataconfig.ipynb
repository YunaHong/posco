{
 "cells": [
  {
   "cell_type": "markdown",
   "id": "8bd67952-47d4-4e4f-9848-7becb4c7c7dc",
   "metadata": {},
   "source": [
    "파일명 입력해서 열어오고, 입력 안 하면 디폴트 값 - students.txt를 열면 됨. \n",
    "</br> sys args 이용해서 파일 이름 갖고 올 수 잇음"
   ]
  },
  {
   "cell_type": "code",
   "execution_count": 2,
   "id": "19e47d23-dddd-4cc5-b96b-bdb7ccaaddbc",
   "metadata": {},
   "outputs": [
    {
     "name": "stdout",
     "output_type": "stream",
     "text": [
      "20180001\tHong Gildong\t84\t73\n",
      "20180002\tLee Jieun\t92\t89\n",
      "20180007\tKim Cheolsu\t57\t62\n",
      "20180009\tLee Yeonghee\t81\t84\n",
      "20180011\tHa Donghun\t58\t68\n"
     ]
    }
   ],
   "source": [
    "f = open(\"students.txt\",\"r\")\n",
    "for l in f:\n",
    "    print(l,end = \"\")\n",
    "\n",
    "f.close()\n"
   ]
  },
  {
   "cell_type": "code",
   "execution_count": 49,
   "id": "70e92739-6da4-47f4-9e6d-042fd16d29dd",
   "metadata": {},
   "outputs": [],
   "source": [
    "def avg(m,f):\n",
    "    return str((m+f)/2)"
   ]
  },
  {
   "cell_type": "code",
   "execution_count": 17,
   "id": "6f744e4d-aa42-464a-ad58-5f839c7656a3",
   "metadata": {},
   "outputs": [],
   "source": [
    "def grade(avg):\n",
    "    if avg < 60:\n",
    "        return \"F\"\n",
    "    elif avg < 70:\n",
    "        return \"D\"\n",
    "    elif avg < 80:\n",
    "        return \"C\"\n",
    "    elif avg < 90:\n",
    "        return \"B\"\n",
    "    else: \n",
    "        return \"A\""
   ]
  },
  {
   "cell_type": "code",
   "execution_count": 33,
   "id": "bc0771f6-6752-43a3-b60d-f408c677adef",
   "metadata": {},
   "outputs": [
    {
     "name": "stdout",
     "output_type": "stream",
     "text": [
      "[['20180001', 'Hong', 'Gildong', '84', '73', 78.5, 'C'], ['20180002', 'Lee', 'Jieun', '92', '89', 90.5, 'A'], ['20180007', 'Kim', 'Cheolsu', '57', '62', 59.5, 'F'], ['20180009', 'Lee', 'Yeonghee', '81', '84', 82.5, 'B'], ['20180011', 'Ha', 'Donghun', '58', '68', 63.0, 'D']]\n"
     ]
    }
   ],
   "source": [
    "slist =[]\n",
    "#temp = []\n",
    "f = open(\"students.txt\",\"r\")\n",
    "cnt = 0\n",
    "for l in f:\n",
    "    slist.append(l.split()) #이중리스트 열 0: id, 1: 성 2: 이름 3: 중간 4: 기말\n",
    "\n",
    "for i in range(0,len(slist)):\n",
    "    \n",
    "    slist[i].append(avg(int(slist[i][3]),int(slist[i][4])))\n",
    "    slist[i].append(grade(int(slist[i][5])))\n",
    "# print(len(slist))\n",
    "    \n",
    "print(slist)\n",
    "f.close()\n",
    "\n",
    "f = open(\"analy.txt\",\"w\")\n",
    "\n",
    "f.close()"
   ]
  },
  {
   "cell_type": "code",
   "execution_count": 55,
   "id": "d4ee87d2-288e-4ab8-9c00-3d21af51bb4f",
   "metadata": {},
   "outputs": [
    {
     "name": "stdout",
     "output_type": "stream",
     "text": [
      "[['20180002', 'Lee Jieun', '92', '89', '90.5', 'A'], ['20180009', 'Lee Yeonghee', '81', '84', '82.5', 'B'], ['20180001', 'Hong Gildong', '84', '73', '78.5', 'C'], ['20180011', 'Ha Donghun', '58', '68', '63.0', 'D'], ['20180007', 'Kim Cheolsu', '57', '62', '59.5', 'F']]\n"
     ]
    }
   ],
   "source": [
    "slist =[]\n",
    "f = open(\"students.txt\",\"r\")\n",
    "cnt = 0\n",
    "for l in f:\n",
    "    slist.append(l.split(\"\\n\"))  \n",
    "    \n",
    "for i in range(0,len(slist)):\n",
    "    temp = slist[i][0]\n",
    "    #print(temp)\n",
    "    slist[i]=temp.split(\"\\t\") #이중리스트 열 0:id, 1:이름 2:중간 3:기말 \n",
    "    \n",
    "    slist[i].append(avg(int(slist[i][2]),int(slist[i][3])))\n",
    "    slist[i].append(grade(float(slist[i][4])))\n",
    "\n",
    "slist.sort(key = lambda x : float(x[4]), reverse = True)\n",
    "    \n",
    "print(slist)\n",
    "f.close()\n",
    "\n",
    "\n"
   ]
  },
  {
   "cell_type": "code",
   "execution_count": 82,
   "id": "0a684463-d58b-4787-8c51-5f70f70958cc",
   "metadata": {},
   "outputs": [],
   "source": [
    "f = open(\"analy.txt\",\"w\")\n",
    "data = \"\"\n",
    "\n",
    "# for e in slist:\n",
    "#     for i in range(0,len(e)):\n",
    "#         data = data + e[i] +\"\\t\"\n",
    "#     data = data + \"\\n\"\n",
    "\n",
    "# print(data)\n",
    "# f.write(data)\n",
    "title = \"{:^9}\\t{:>18}\\t{:^15}\\t{:^15}\\t{:^15}\\t{:^15}\\n\".format(\"Student\", \"Name\", \"Midterm\", \"Final\", \"Average\", \"Grade\")\n",
    "f.write(title)\n",
    "lines = \"----------\" * 10 + \"\\n\"\n",
    "f.write(lines)\n",
    "for i in range(0,len(slist)):\n",
    "    data += \"{:^9}\\t{:>18}\\t{:^15}\\t{:^15}\\t{:^15}\\t{:^15}\\n\".format(slist[i][0],slist[i][1],slist[i][2],slist[i][3],slist[i][4],slist[i][5])\n",
    "    \n",
    "f.write(data)\n",
    "f.close()"
   ]
  },
  {
   "cell_type": "code",
   "execution_count": null,
   "id": "aaa7ca55-64b9-47eb-af49-b95851759015",
   "metadata": {},
   "outputs": [],
   "source": [
    "####명령어 입력될 때 실행되게끔"
   ]
  },
  {
   "cell_type": "code",
   "execution_count": 84,
   "id": "9e0c1370-259a-4be3-9dda-a7ab93cf9be3",
   "metadata": {},
   "outputs": [
    {
     "name": "stdout",
     "output_type": "stream",
     "text": [
      " Student \t              Name\t    Midterm    \t     Final     \t    Average    \t     Grade     \n",
      "----------------------------------------------------------------------------------------------------\n",
      "20180002 \t         Lee Jieun\t      92       \t      89       \t     90.5      \t       A       \n",
      "20180009 \t      Lee Yeonghee\t      81       \t      84       \t     82.5      \t       B       \n",
      "20180001 \t      Hong Gildong\t      84       \t      73       \t     78.5      \t       C       \n",
      "20180011 \t        Ha Donghun\t      58       \t      68       \t     63.0      \t       D       \n",
      "20180007 \t       Kim Cheolsu\t      57       \t      62       \t     59.5      \t       F       \n"
     ]
    }
   ],
   "source": [
    "########show함수실험#####\n",
    "# f = open(\"analy.txt\",\"r\")\n",
    "# for l in f:\n",
    "#     print(l,end = \"\")\n",
    "# f.close()"
   ]
  },
  {
   "cell_type": "code",
   "execution_count": 87,
   "id": "d6120eee-e8d3-41c9-8521-b1fc8bb959f8",
   "metadata": {},
   "outputs": [
    {
     "name": "stdout",
     "output_type": "stream",
     "text": [
      " Student \t              Name\t    Midterm    \t     Final     \t    Average    \t     Grade     \n",
      "----------------------------------------------------------------------------------------------------\n",
      "20180002 \t         Lee Jieun\t      92       \t      89       \t     90.5      \t       A       \n",
      "20180009 \t      Lee Yeonghee\t      81       \t      84       \t     82.5      \t       B       \n",
      "20180001 \t      Hong Gildong\t      84       \t      73       \t     78.5      \t       C       \n",
      "20180011 \t        Ha Donghun\t      58       \t      68       \t     63.0      \t       D       \n",
      "20180007 \t       Kim Cheolsu\t      57       \t      62       \t     59.5      \t       F       \n"
     ]
    }
   ],
   "source": [
    "def show(filename):\n",
    "    f = open(filename,\"r\")\n",
    "    for l in f:\n",
    "        print(l,end = \"\")\n",
    "    f.close()\n",
    "\n",
    "show(\"analy.txt\")"
   ]
  },
  {
   "cell_type": "code",
   "execution_count": null,
   "id": "cf48faac-6886-43d5-b0ef-cfe7d270168d",
   "metadata": {},
   "outputs": [],
   "source": []
  }
 ],
 "metadata": {
  "kernelspec": {
   "display_name": "Python 3 (ipykernel)",
   "language": "python",
   "name": "python3"
  },
  "language_info": {
   "codemirror_mode": {
    "name": "ipython",
    "version": 3
   },
   "file_extension": ".py",
   "mimetype": "text/x-python",
   "name": "python",
   "nbconvert_exporter": "python",
   "pygments_lexer": "ipython3",
   "version": "3.10.13"
  }
 },
 "nbformat": 4,
 "nbformat_minor": 5
}
