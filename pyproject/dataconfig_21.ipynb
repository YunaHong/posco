{
 "cells": [
  {
   "cell_type": "markdown",
   "id": "8bd67952-47d4-4e4f-9848-7becb4c7c7dc",
   "metadata": {},
   "source": [
    "파일명 입력해서 열어오고, 입력 안 하면 디폴트 값 - students.txt를 열면 됨. \n",
    "</br> sys args 이용해서 파일 이름 갖고 올 수 잇음\n",
    "</br>  그냥 다 slist에 저장한 다음에 나중에 파일 저장하자 quit으로!그게 정신건강에 좋음,,,동작 명령어 대소문자 관계없이 돌아가야함함/"
   ]
  },
  {
   "cell_type": "code",
   "execution_count": 7,
   "id": "19e47d23-dddd-4cc5-b96b-bdb7ccaaddbc",
   "metadata": {},
   "outputs": [
    {
     "name": "stdout",
     "output_type": "stream",
     "text": [
      "20180001\tHong Gildong\t84\t73\n",
      "20180002\tLee Jieun\t92\t89\n",
      "20180007\tKim Cheolsu\t57\t62\n",
      "20180009\tLee Yeonghee\t81\t84\n",
      "20180011\tHa Donghun\t58\t68\n"
     ]
    }
   ],
   "source": [
    "f = open(\"students.txt\",\"r\")\n",
    "for l in f:\n",
    "    print(l,end = \"\")\n",
    "\n",
    "f.close()\n"
   ]
  },
  {
   "cell_type": "code",
   "execution_count": 8,
   "id": "70e92739-6da4-47f4-9e6d-042fd16d29dd",
   "metadata": {},
   "outputs": [],
   "source": [
    "def avg(m,f):\n",
    "    return str((m+f)/2)"
   ]
  },
  {
   "cell_type": "code",
   "execution_count": 9,
   "id": "6f744e4d-aa42-464a-ad58-5f839c7656a3",
   "metadata": {},
   "outputs": [],
   "source": [
    "def grade(avg):\n",
    "    if avg < 60:\n",
    "        return \"F\"\n",
    "    elif avg < 70:\n",
    "        return \"D\"\n",
    "    elif avg < 80:\n",
    "        return \"C\"\n",
    "    elif avg < 90:\n",
    "        return \"B\"\n",
    "    else: \n",
    "        return \"A\""
   ]
  },
  {
   "cell_type": "code",
   "execution_count": 10,
   "id": "bc0771f6-6752-43a3-b60d-f408c677adef",
   "metadata": {},
   "outputs": [
    {
     "ename": "ValueError",
     "evalue": "invalid literal for int() with base 10: '78.5'",
     "output_type": "error",
     "traceback": [
      "\u001b[1;31m---------------------------------------------------------------------------\u001b[0m",
      "\u001b[1;31mValueError\u001b[0m                                Traceback (most recent call last)",
      "\u001b[1;32mc:\\Users\\formu\\Desktop\\pyproj\\posco\\pyproject\\dataconfig.ipynb 셀 5\u001b[0m line \u001b[0;36m1\n\u001b[0;32m      <a href='vscode-notebook-cell:/c%3A/Users/formu/Desktop/pyproj/posco/pyproject/dataconfig.ipynb#W4sZmlsZQ%3D%3D?line=7'>8</a>\u001b[0m \u001b[39mfor\u001b[39;00m i \u001b[39min\u001b[39;00m \u001b[39mrange\u001b[39m(\u001b[39m0\u001b[39m,\u001b[39mlen\u001b[39m(slist)):\n\u001b[0;32m     <a href='vscode-notebook-cell:/c%3A/Users/formu/Desktop/pyproj/posco/pyproject/dataconfig.ipynb#W4sZmlsZQ%3D%3D?line=9'>10</a>\u001b[0m     slist[i]\u001b[39m.\u001b[39mappend(avg(\u001b[39mint\u001b[39m(slist[i][\u001b[39m3\u001b[39m]),\u001b[39mint\u001b[39m(slist[i][\u001b[39m4\u001b[39m])))\n\u001b[1;32m---> <a href='vscode-notebook-cell:/c%3A/Users/formu/Desktop/pyproj/posco/pyproject/dataconfig.ipynb#W4sZmlsZQ%3D%3D?line=10'>11</a>\u001b[0m     slist[i]\u001b[39m.\u001b[39mappend(grade(\u001b[39mint\u001b[39;49m(slist[i][\u001b[39m5\u001b[39;49m])))\n\u001b[0;32m     <a href='vscode-notebook-cell:/c%3A/Users/formu/Desktop/pyproj/posco/pyproject/dataconfig.ipynb#W4sZmlsZQ%3D%3D?line=11'>12</a>\u001b[0m \u001b[39m# print(len(slist))\u001b[39;00m\n\u001b[0;32m     <a href='vscode-notebook-cell:/c%3A/Users/formu/Desktop/pyproj/posco/pyproject/dataconfig.ipynb#W4sZmlsZQ%3D%3D?line=13'>14</a>\u001b[0m \u001b[39mprint\u001b[39m(slist)\n",
      "\u001b[1;31mValueError\u001b[0m: invalid literal for int() with base 10: '78.5'"
     ]
    }
   ],
   "source": [
    "slist =[]\n",
    "#temp = []\n",
    "f = open(\"students.txt\",\"r\")\n",
    "cnt = 0\n",
    "for l in f:\n",
    "    slist.append(l.split()) #이중리스트 열 0: id, 1: 성 2: 이름 3: 중간 4: 기말\n",
    "\n",
    "for i in range(0,len(slist)):\n",
    "    \n",
    "    slist[i].append(avg(int(slist[i][3]),int(slist[i][4])))\n",
    "    slist[i].append(grade(int(slist[i][5])))\n",
    "# print(len(slist))\n",
    "    \n",
    "print(slist)\n",
    "f.close()\n",
    "\n",
    "f = open(\"analy.txt\",\"w\")\n",
    "\n",
    "f.close()"
   ]
  },
  {
   "cell_type": "code",
   "execution_count": 11,
   "id": "d4ee87d2-288e-4ab8-9c00-3d21af51bb4f",
   "metadata": {},
   "outputs": [
    {
     "name": "stdout",
     "output_type": "stream",
     "text": [
      "[['20180002', 'Lee Jieun', '92', '89', '90.5', 'A'], ['20180009', 'Lee Yeonghee', '81', '84', '82.5', 'B'], ['20180001', 'Hong Gildong', '84', '73', '78.5', 'C'], ['20180011', 'Ha Donghun', '58', '68', '63.0', 'D'], ['20180007', 'Kim Cheolsu', '57', '62', '59.5', 'F']]\n"
     ]
    }
   ],
   "source": [
    "slist =[]\n",
    "f = open(\"students.txt\",\"r\")\n",
    "cnt = 0\n",
    "for l in f:\n",
    "    slist.append(l.split(\"\\n\"))  \n",
    "    \n",
    "for i in range(0,len(slist)):\n",
    "    temp = slist[i][0]\n",
    "    #print(temp)\n",
    "    slist[i]=temp.split(\"\\t\") #이중리스트 열 0:id, 1:이름 2:중간 3:기말 \n",
    "    \n",
    "    slist[i].append(avg(int(slist[i][2]),int(slist[i][3])))\n",
    "    slist[i].append(grade(float(slist[i][4])))\n",
    "\n",
    "slist.sort(key = lambda x : float(x[4]), reverse = True)\n",
    "    \n",
    "print(slist)\n",
    "f.close()\n",
    "\n",
    "\n"
   ]
  },
  {
   "cell_type": "code",
   "execution_count": 23,
   "id": "0a684463-d58b-4787-8c51-5f70f70958cc",
   "metadata": {},
   "outputs": [
    {
     "name": "stdout",
     "output_type": "stream",
     "text": [
      " Student \t              Name\t    Midterm    \t     Final     \t    Average    \t     Grade     \n",
      " ----------------------------------------------------------------------------------------------------\n",
      " 20180002 \t         Lee Jieun\t      92       \t      89       \t     90.5      \t       A       \n",
      "20180009 \t      Lee Yeonghee\t      81       \t      84       \t     82.5      \t       B       \n",
      "20180001 \t      Hong Gildong\t      84       \t      73       \t     78.5      \t       C       \n",
      "20180011 \t        Ha Donghun\t      58       \t      68       \t     63.0      \t       D       \n",
      "20180007 \t       Kim Cheolsu\t      57       \t      62       \t     59.5      \t       F       \n",
      "\n"
     ]
    }
   ],
   "source": [
    "f = open(\"analy.txt\",\"w\")\n",
    "data = \"\"\n",
    "\n",
    "# for e in slist:\n",
    "#     for i in range(0,len(e)):\n",
    "#         data = data + e[i] +\"\\t\"\n",
    "#     data = data + \"\\n\"\n",
    "\n",
    "# print(data)\n",
    "# f.write(data)\n",
    "title = \"{:^9}\\t{:>18}\\t{:^15}\\t{:^15}\\t{:^15}\\t{:^15}\\n\".format(\"Student\", \"Name\", \"Midterm\", \"Final\", \"Average\", \"Grade\")\n",
    "f.write(title)\n",
    "lines = \"----------\" * 10 + \"\\n\"\n",
    "f.write(lines)\n",
    "for i in range(0,len(slist)):\n",
    "    data += \"{:^9}\\t{:>18}\\t{:^15}\\t{:^15}\\t{:^15}\\t{:^15}\\n\".format(slist[i][0],slist[i][1],slist[i][2],slist[i][3],slist[i][4],slist[i][5])\n",
    "    \n",
    "f.write(data)\n",
    "f.close()\n",
    "print(title,lines, data) ##slist만 출력"
   ]
  },
  {
   "cell_type": "code",
   "execution_count": null,
   "id": "aaa7ca55-64b9-47eb-af49-b95851759015",
   "metadata": {},
   "outputs": [],
   "source": [
    "####명령어 입력될 때 실행되게끔"
   ]
  },
  {
   "cell_type": "code",
   "execution_count": null,
   "id": "9e0c1370-259a-4be3-9dda-a7ab93cf9be3",
   "metadata": {},
   "outputs": [
    {
     "name": "stdout",
     "output_type": "stream",
     "text": [
      " Student \t              Name\t    Midterm    \t     Final     \t    Average    \t     Grade     \n",
      "----------------------------------------------------------------------------------------------------\n",
      "20180002 \t         Lee Jieun\t      92       \t      89       \t     90.5      \t       A       \n",
      "20180009 \t      Lee Yeonghee\t      81       \t      84       \t     82.5      \t       B       \n",
      "20180001 \t      Hong Gildong\t      84       \t      73       \t     78.5      \t       C       \n",
      "20180011 \t        Ha Donghun\t      58       \t      68       \t     63.0      \t       D       \n",
      "20180007 \t       Kim Cheolsu\t      57       \t      62       \t     59.5      \t       F       \n"
     ]
    }
   ],
   "source": [
    "########show함수실험#####\n",
    "# f = open(\"analy.txt\",\"r\")\n",
    "# for l in f:\n",
    "#     print(l,end = \"\")\n",
    "# f.close()"
   ]
  },
  {
   "cell_type": "code",
   "execution_count": 13,
   "id": "d6120eee-e8d3-41c9-8521-b1fc8bb959f8",
   "metadata": {},
   "outputs": [
    {
     "name": "stdout",
     "output_type": "stream",
     "text": [
      " Student \t              Name\t    Midterm    \t     Final     \t    Average    \t     Grade     \n",
      "----------------------------------------------------------------------------------------------------\n",
      "20180002 \t         Lee Jieun\t      92       \t      89       \t     90.5      \t       A       \n",
      "20180009 \t      Lee Yeonghee\t      81       \t      84       \t     82.5      \t       B       \n",
      "20180001 \t      Hong Gildong\t      84       \t      73       \t     78.5      \t       C       \n",
      "20180011 \t        Ha Donghun\t      58       \t      68       \t     63.0      \t       D       \n",
      "20180007 \t       Kim Cheolsu\t      57       \t      62       \t     59.5      \t       F       \n"
     ]
    }
   ],
   "source": [
    "def show(filename):\n",
    "    f = open(filename,\"r\")\n",
    "    for l in f:\n",
    "        print(l,end = \"\")\n",
    "    f.close()\n",
    "\n",
    "show(\"analy.txt\")"
   ]
  },
  {
   "cell_type": "code",
   "execution_count": null,
   "id": "cf48faac-6886-43d5-b0ef-cfe7d270168d",
   "metadata": {},
   "outputs": [
    {
     "ename": "KeyboardInterrupt",
     "evalue": "Interrupted by user",
     "output_type": "error",
     "traceback": [
      "\u001b[1;31m---------------------------------------------------------------------------\u001b[0m",
      "\u001b[1;31mKeyboardInterrupt\u001b[0m                         Traceback (most recent call last)",
      "\u001b[1;32mc:\\Users\\formu\\Desktop\\pyproj\\posco\\pyproject\\dataconfig.ipynb 셀 11\u001b[0m line \u001b[0;36m1\n\u001b[1;32m----> <a href='vscode-notebook-cell:/c%3A/Users/formu/Desktop/pyproj/posco/pyproject/dataconfig.ipynb#X13sZmlsZQ%3D%3D?line=0'>1</a>\u001b[0m target \u001b[39m=\u001b[39m \u001b[39minput\u001b[39;49m(\u001b[39m\"\u001b[39;49m\u001b[39mStudent ID:\u001b[39;49m\u001b[39m\"\u001b[39;49m)\n\u001b[0;32m      <a href='vscode-notebook-cell:/c%3A/Users/formu/Desktop/pyproj/posco/pyproject/dataconfig.ipynb#X13sZmlsZQ%3D%3D?line=1'>2</a>\u001b[0m f \u001b[39m=\u001b[39m \u001b[39mopen\u001b[39m(\u001b[39m\"\u001b[39m\u001b[39manaly.txt\u001b[39m\u001b[39m\"\u001b[39m,\u001b[39m\"\u001b[39m\u001b[39mr\u001b[39m\u001b[39m\"\u001b[39m)\n\u001b[0;32m      <a href='vscode-notebook-cell:/c%3A/Users/formu/Desktop/pyproj/posco/pyproject/dataconfig.ipynb#X13sZmlsZQ%3D%3D?line=2'>3</a>\u001b[0m \u001b[39mfor\u001b[39;00m l \u001b[39min\u001b[39;00m f:\n",
      "File \u001b[1;32m~\\AppData\\Roaming\\Python\\Python310\\site-packages\\ipykernel\\kernelbase.py:1270\u001b[0m, in \u001b[0;36mKernel.raw_input\u001b[1;34m(self, prompt)\u001b[0m\n\u001b[0;32m   1268\u001b[0m     msg \u001b[39m=\u001b[39m \u001b[39m\"\u001b[39m\u001b[39mraw_input was called, but this frontend does not support input requests.\u001b[39m\u001b[39m\"\u001b[39m\n\u001b[0;32m   1269\u001b[0m     \u001b[39mraise\u001b[39;00m StdinNotImplementedError(msg)\n\u001b[1;32m-> 1270\u001b[0m \u001b[39mreturn\u001b[39;00m \u001b[39mself\u001b[39;49m\u001b[39m.\u001b[39;49m_input_request(\n\u001b[0;32m   1271\u001b[0m     \u001b[39mstr\u001b[39;49m(prompt),\n\u001b[0;32m   1272\u001b[0m     \u001b[39mself\u001b[39;49m\u001b[39m.\u001b[39;49m_parent_ident[\u001b[39m\"\u001b[39;49m\u001b[39mshell\u001b[39;49m\u001b[39m\"\u001b[39;49m],\n\u001b[0;32m   1273\u001b[0m     \u001b[39mself\u001b[39;49m\u001b[39m.\u001b[39;49mget_parent(\u001b[39m\"\u001b[39;49m\u001b[39mshell\u001b[39;49m\u001b[39m\"\u001b[39;49m),\n\u001b[0;32m   1274\u001b[0m     password\u001b[39m=\u001b[39;49m\u001b[39mFalse\u001b[39;49;00m,\n\u001b[0;32m   1275\u001b[0m )\n",
      "File \u001b[1;32m~\\AppData\\Roaming\\Python\\Python310\\site-packages\\ipykernel\\kernelbase.py:1313\u001b[0m, in \u001b[0;36mKernel._input_request\u001b[1;34m(self, prompt, ident, parent, password)\u001b[0m\n\u001b[0;32m   1310\u001b[0m \u001b[39mexcept\u001b[39;00m \u001b[39mKeyboardInterrupt\u001b[39;00m:\n\u001b[0;32m   1311\u001b[0m     \u001b[39m# re-raise KeyboardInterrupt, to truncate traceback\u001b[39;00m\n\u001b[0;32m   1312\u001b[0m     msg \u001b[39m=\u001b[39m \u001b[39m\"\u001b[39m\u001b[39mInterrupted by user\u001b[39m\u001b[39m\"\u001b[39m\n\u001b[1;32m-> 1313\u001b[0m     \u001b[39mraise\u001b[39;00m \u001b[39mKeyboardInterrupt\u001b[39;00m(msg) \u001b[39mfrom\u001b[39;00m \u001b[39mNone\u001b[39;00m\n\u001b[0;32m   1314\u001b[0m \u001b[39mexcept\u001b[39;00m \u001b[39mException\u001b[39;00m:\n\u001b[0;32m   1315\u001b[0m     \u001b[39mself\u001b[39m\u001b[39m.\u001b[39mlog\u001b[39m.\u001b[39mwarning(\u001b[39m\"\u001b[39m\u001b[39mInvalid Message:\u001b[39m\u001b[39m\"\u001b[39m, exc_info\u001b[39m=\u001b[39m\u001b[39mTrue\u001b[39;00m)\n",
      "\u001b[1;31mKeyboardInterrupt\u001b[0m: Interrupted by user"
     ]
    }
   ],
   "source": [
    "target = input(\"Student ID:\")\n",
    "f = open(\"analy.txt\",\"r\")\n",
    "for l in f:\n",
    "    if target in l:\n",
    "         title = \"{:^9}\\t{:>18}\\t{:^15}\\t{:^15}\\t{:^15}\\t{:^15}\\n\".format(\"Student\", \"Name\", \"Midterm\", \"Final\", \"Average\", \"Grade\")\n",
    "         lines = \"----------\" * 10 + \"\\n\"\n",
    "         print(title, lines,l)\n",
    "         break\n",
    "       \n",
    "####예외처리해야함.\n",
    "    \n",
    "#print(\"NO SUCH PERSON.\")\n",
    "\n",
    "f.close()"
   ]
  },
  {
   "cell_type": "code",
   "execution_count": 17,
   "id": "5d69e731",
   "metadata": {},
   "outputs": [
    {
     "name": "stdout",
     "output_type": "stream",
     "text": [
      "20180002\n"
     ]
    }
   ],
   "source": [
    "target = '20180002'\n",
    "for i in range(0,len(slist)):\n",
    "\n",
    "    if target == slist[i][0] :\n",
    "        print(target)\n",
    "        #print() 파일 불러와서 한줄 한 줄 읽어서!\\\n",
    "        break #return i\n",
    "    if i == (len(slist)) - 1 :\n",
    "        print(\"NO SUCH PERSON.\")\n",
    "        #return -1\n",
    "\n",
    "    "
   ]
  },
  {
   "cell_type": "code",
   "execution_count": 19,
   "id": "3ac54bee",
   "metadata": {},
   "outputs": [],
   "source": [
    "#점수 수정 - > 학번 서치 -> 트루면 \n",
    "#while(search() > 0)\n",
    "#들어오는 값에 따라 리스트 변경후 새 리스트로 변경되면, 평균 그레이드도 변경시키고, \n",
    "# 다시 그 뭐냐 보여줘야ㅑ함 \n",
    "#그리고 재sorting\n",
    "#그 리스트를 그 analy에 저장해서 난중에 show함수 해도 바뀐걸로 보이게"
   ]
  },
  {
   "cell_type": "code",
   "execution_count": 20,
   "id": "470c0dfd",
   "metadata": {},
   "outputs": [],
   "source": [
    "#처음에 서칭과 비슷하되 결과 물이 다름 있으면 있다고, 없으면 그때부터 추가 작업\n",
    "#그래서 함수를 직접 불러오면 안되고 \n",
    "#이름 ,중간 , 기말 받아와서 \n",
    "#리스트에 넣고, 평균, 그레이드 도 넣고\n",
    "#재솔팅 후 analy저장"
   ]
  },
  {
   "cell_type": "code",
   "execution_count": null,
   "id": "83504628",
   "metadata": {},
   "outputs": [],
   "source": []
  }
 ],
 "metadata": {
  "kernelspec": {
   "display_name": "Python 3 (ipykernel)",
   "language": "python",
   "name": "python3"
  },
  "language_info": {
   "codemirror_mode": {
    "name": "ipython",
    "version": 3
   },
   "file_extension": ".py",
   "mimetype": "text/x-python",
   "name": "python",
   "nbconvert_exporter": "python",
   "pygments_lexer": "ipython3",
   "version": "3.10.13"
  }
 },
 "nbformat": 4,
 "nbformat_minor": 5
}
