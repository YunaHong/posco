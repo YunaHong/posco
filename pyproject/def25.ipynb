{
 "cells": [
  {
   "cell_type": "code",
   "execution_count": 3,
   "id": "a0405d24-886b-412c-937d-8cd5f07f7f86",
   "metadata": {},
   "outputs": [
    {
     "name": "stdout",
     "output_type": "stream",
     "text": [
      "--ip=127.0.0.1\n"
     ]
    }
   ],
   "source": [
    "import sys \n",
    "file_name = sys.argv[1]\n",
    "\n",
    "print(file_name)\n",
    "\n",
    "title = \"{:^9}\\t{:>18}\\t{:^15}\\t{:^15}\\t{:^15}\\t{:^15}\\n\".format(\"Student\", \"Name\", \"Midterm\", \"Final\", \"Average\", \"Grade\")\n",
    "lines = \"----------\" * 10 + \"\\n\"\n",
    "    "
   ]
  },
  {
   "cell_type": "code",
   "execution_count": 4,
   "id": "6ba06744-8a00-4ab8-9597-988c0f9e740b",
   "metadata": {},
   "outputs": [],
   "source": [
    "def avg(m,f):\n",
    "    #return str((m+f)/2)\n",
    "    return str((float(m) + float(f)) / 2)\n"
   ]
  },
  {
   "cell_type": "code",
   "execution_count": 5,
   "id": "bc7eb5ed-5d2a-4065-9d3f-4d814ac610a4",
   "metadata": {},
   "outputs": [],
   "source": [
    "\n",
    "\n",
    "def grade(avg):\n",
    "    if avg < 60:\n",
    "        return \"F\"\n",
    "    elif avg < 70:\n",
    "        return \"D\"\n",
    "    elif avg < 80:\n",
    "        return \"C\"\n",
    "    elif avg < 90:\n",
    "        return \"B\"\n",
    "    else: \n",
    "        return \"A\"\n",
    "\n"
   ]
  },
  {
   "cell_type": "code",
   "execution_count": 6,
   "id": "60dc8b6b-821d-4868-b434-252573240d5e",
   "metadata": {},
   "outputs": [
    {
     "name": "stdout",
     "output_type": "stream",
     "text": [
      "20180001\tHong Gildong\t84\t73\n",
      "\n",
      "20180002\tLee Jieun\t92\t89\n",
      "\n",
      "20180007\tKim Cheolsu\t57\t62\n",
      "\n",
      "20180009\tLee Yeonghee\t81\t84\n",
      "\n",
      "20180011\tHa Donghun\t58\t68\n",
      "\n",
      "[['20180002', 'Lee Jieun', '92', '89', '90.5', 'A'], ['20180009', 'Lee Yeonghee', '81', '84', '82.5', 'B'], ['20180001', 'Hong Gildong', '84', '73', '78.5', 'C'], ['20180011', 'Ha Donghun', '58', '68', '63.0', 'D'], ['20180007', 'Kim Cheolsu', '57', '62', '59.5', 'F']]\n"
     ]
    }
   ],
   "source": [
    "######리스트 구축, #받아오는 파일 수정할 것. \n",
    "slist =[]\n",
    "f = open(\"students.txt\",\"r\")\n",
    "#f = open(\"analy.txt\",\"r\")\n",
    "cnt = 0\n",
    "for l in f:\n",
    "    slist.append(l.split(\"\\n\"))  \n",
    "    print(l)\n",
    "for i in range(0,len(slist)):\n",
    "    temp = slist[i][0]\n",
    "\n",
    "    slist[i]=temp.split(\"\\t\") #이중리스트 열 0:id, 1:이름 2:중간 3:기말 \n",
    "    try:\n",
    "        slist[i][4]\n",
    "    except:\n",
    "        slist[i].append(avg(int(slist[i][2]),int(slist[i][3])))\n",
    "        slist[i].append(grade(float(slist[i][4])))\n",
    "    \n",
    "\n",
    "slist.sort(key = lambda x : float(x[4]), reverse = True)\n",
    "    \n",
    "print(slist)\n",
    "f.close()"
   ]
  },
  {
   "cell_type": "code",
   "execution_count": 7,
   "id": "7c584931-9735-4a77-b3e6-63c52704b0cf",
   "metadata": {},
   "outputs": [],
   "source": [
    "def show():\n",
    "    data = \"\"\n",
    "    title = \"{:^9}\\t{:>18}\\t{:^15}\\t{:^15}\\t{:^15}\\t{:^15}\\n\".format(\"Student\", \"Name\", \"Midterm\", \"Final\", \"Average\", \"Grade\")\n",
    "    lines = \"----------\" * 10 + \"\\n\"\n",
    "    \n",
    "    for i in range(0,len(slist)):\n",
    "        data += \"{:^9}\\t{:>18}\\t{:^15}\\t{:^15}\\t{:^15}\\t{:^15}\\n\".format(slist[i][0],slist[i][1],slist[i][2],slist[i][3],slist[i][4],slist[i][5])\n",
    "    print(title,lines , end = \"\")\n",
    "    print(data)\n",
    "\n",
    "def show_i(i):\n",
    "    print(title,lines , end = \"\")\n",
    "    data = \"{:^9}\\t{:>18}\\t{:^15}\\t{:^15}\\t{:^15}\\t{:^15}\\n\".format(slist[i][0],slist[i][1],slist[i][2],slist[i][3],slist[i][4],slist[i][5])\n",
    "    print(data)\n"
   ]
  },
  {
   "cell_type": "code",
   "execution_count": 8,
   "id": "993b9c1e-7f6a-4219-b036-bff5359e8afd",
   "metadata": {},
   "outputs": [
    {
     "name": "stdout",
     "output_type": "stream",
     "text": [
      " Student \t              Name\t    Midterm    \t     Final     \t    Average    \t     Grade     \n",
      " ----------------------------------------------------------------------------------------------------\n",
      "20180002 \t         Lee Jieun\t      92       \t      89       \t     90.5      \t       A       \n",
      "20180009 \t      Lee Yeonghee\t      81       \t      84       \t     82.5      \t       B       \n",
      "20180001 \t      Hong Gildong\t      84       \t      73       \t     78.5      \t       C       \n",
      "20180011 \t        Ha Donghun\t      58       \t      68       \t     63.0      \t       D       \n",
      "20180007 \t       Kim Cheolsu\t      57       \t      62       \t     59.5      \t       F       \n",
      "\n"
     ]
    }
   ],
   "source": [
    "show()"
   ]
  },
  {
   "cell_type": "code",
   "execution_count": 8,
   "id": "35df9519-37e8-4a85-8a49-58e6ebfd81ea",
   "metadata": {},
   "outputs": [],
   "source": [
    "def quit(): \n",
    "    sv = input(\"Save Data?[yes/no]\")\n",
    "    if sv == \"yes\":\n",
    "        file_name = input(\"File Name:\")\n",
    "        f = open(file_name,\"w\")\n",
    "        data = \"\"\n",
    "        for i in range(0,len(slist)):\n",
    "            data += \"{}\\t{}\\t{}\\t{}\\n\".format(slist[i][0],slist[i][1],slist[i][2],slist[i][3])\n",
    "    \n",
    "        f.write(data)\n",
    "        f.close()"
   ]
  },
  {
   "cell_type": "code",
   "execution_count": 10,
   "id": "eb8cc3be-5420-4d1d-8289-4e910bbd876f",
   "metadata": {},
   "outputs": [
    {
     "name": "stdout",
     "output_type": "stream",
     "text": [
      "Save Data?[yes/no] no\n"
     ]
    }
   ],
   "source": [
    "quit()"
   ]
  },
  {
   "cell_type": "code",
   "execution_count": 9,
   "id": "ef24b4ad-16c0-4e33-a7ab-19488186cdea",
   "metadata": {},
   "outputs": [],
   "source": [
    "#search\n",
    "def search():\n",
    "    target = input(\"Student ID:\")\n",
    "    #target = '20180009'\n",
    "    i = 0\n",
    "    for i in range(0,len(slist)):\n",
    "        if target == slist[i][0] :\n",
    "            print(title,lines , end = \"\")\n",
    "            print(\"{:^9}\\t{:>18}\\t{:^15}\\t{:^15}\\t{:^15}\\t{:^15}\\n\".format(slist[i][0],slist[i][1],slist[i][2],slist[i][3],slist[i][4],slist[i][5]))\n",
    "        #print(target)\n",
    "        #print() 파일 불러와서 한줄 한 줄 읽어서!\\\n",
    "            return i #return i\n",
    "        if i == (len(slist)) - 1 :\n",
    "            print(\"NO SUCH PERSON.\")\n",
    "            return -1\n",
    "\n",
    "def get_i(s_id):\n",
    "    \n",
    "    #target = input(\"Student ID:\")\n",
    "    #target = '20180009'\n",
    "    i = 0\n",
    "    for i in range(0,len(slist)):\n",
    "        if s_id == slist[i][0] :\n",
    "            return i #return i\n",
    "        if i == (len(slist)) - 1 :\n",
    "            #print(\"NO SUCH PERSON.\")\n",
    "            return -1\n",
    "\n"
   ]
  },
  {
   "cell_type": "code",
   "execution_count": 8,
   "id": "6cf35fb8-d653-4941-b24b-1cfd15312cde",
   "metadata": {
    "scrolled": true
   },
   "outputs": [
    {
     "name": "stdout",
     "output_type": "stream",
     "text": [
      "NO SUCH PERSON.\n",
      "-1\n"
     ]
    }
   ],
   "source": [
    "print(search())"
   ]
  },
  {
   "cell_type": "code",
   "execution_count": 73,
   "id": "2b429446-3d28-40ce-8e7e-cc4ef5544e27",
   "metadata": {},
   "outputs": [],
   "source": [
    "# #changescore  인풋값 들어온 다음에 showing\n",
    "# target = input(\"Student ID:\")\n",
    "# index = get_i(target)\n",
    "# if index >= 0 :\n",
    "#     which_sc = input(\"Mid/Final?\")\n",
    "    \n",
    "\n",
    "#     if which_sc.lower() == \"mid\":\n",
    "#         new_sc = input(\"Input New Score:\")\n",
    "#         while (float(new_sc)>100) or (float(new_sc)<0) :\n",
    "#             new_sc = input(\"Input New Score:\")\n",
    "#         show_i(index)\n",
    "#         slist[index][2] = new_sc\n",
    "#         slist[index][4] = avg(int(slist[index][2]),int(slist[index][3]))\n",
    "#         slist[index][5] = grade(float(slist[index][4]))\n",
    "#         print(\"Score Changed.\")\n",
    "#         show_i(index)\n",
    "    \n",
    "#     elif which_sc.lower() == \"final\" :\n",
    "#         new_sc = input(\"Input New Score:\")\n",
    "#         while (float(new_sc)>100) or (float(new_sc)<0) :\n",
    "#             new_sc = input(\"Input New Score:\")\n",
    "#         show_i(index)\n",
    "#         print(new_sc)\n",
    "#         slist[index][3] = new_sc\n",
    "#         slist[index][4] = avg(int(slist[index][2]),int(slist[index][3]))\n",
    "#         slist[index][5] = grade(float(slist[index][4]))\n",
    "#         print(\"Score Changed.\")\n",
    "#         show_i(index)\n",
    "#     else:\n",
    "        \n",
    "#         print(\"str((int(m) + int(f)) / 2)\n",
    "    \n",
    "#    # print(slist[index])\n",
    "    "
   ]
  },
  {
   "cell_type": "code",
   "execution_count": 9,
   "id": "27291a2a-4dec-4470-aa38-9c7154da051c",
   "metadata": {
    "scrolled": true
   },
   "outputs": [
    {
     "name": "stdout",
     "output_type": "stream",
     "text": [
      " Student \t              Name\t    Midterm    \t     Final     \t    Average    \t     Grade     \n",
      " ----------------------------------------------------------------------------------------------------\n",
      "20180002 \t         Lee Jieun\t      92       \t      89       \t     90.5      \t       A       \n",
      "20180009 \t      Lee Yeonghee\t      81       \t      84       \t     82.5      \t       B       \n",
      "20180001 \t      Hong Gildong\t      84       \t      73       \t     78.5      \t       C       \n",
      "20180011 \t        Ha Donghun\t      58       \t      68       \t     63.0      \t       D       \n",
      "20180007 \t       Kim Cheolsu\t      57       \t      62       \t     59.5      \t       F       \n",
      "\n"
     ]
    }
   ],
   "source": [
    "show()"
   ]
  },
  {
   "cell_type": "code",
   "execution_count": 45,
   "id": "72fe7c77-5243-4888-8e43-f7a293c47f74",
   "metadata": {},
   "outputs": [],
   "source": [
    "def changescore():\n",
    "    target = input(\"Student ID:\")\n",
    "    index = get_i(target)\n",
    "    if index >= 0 :\n",
    "        which_sc = input(\"Mid/Final?\")\n",
    "    \n",
    "\n",
    "        if which_sc.lower() == \"mid\":\n",
    "            new_sc = input(\"Input New Score:\")\n",
    "            while (float(new_sc)>100) or (float(new_sc)<0) :\n",
    "                new_sc = input(\"Input New Score:\")\n",
    "            show_i(index)\n",
    "            slist[index][2] = new_sc\n",
    "            slist[index][4] = avg(int(slist[index][2]),int(slist[index][3]))\n",
    "            slist[index][5] = grade(float(slist[index][4]))\n",
    "            print(\"Score Changed.\")\n",
    "            show_i(index)\n",
    "    \n",
    "        elif which_sc.lower() == \"final\" :\n",
    "            new_sc = input(\"Input New Score:\")\n",
    "            while (float(new_sc)>100) or (float(new_sc)<0) :\n",
    "                new_sc = input(\"Input New Score:\")\n",
    "            show_i(index)\n",
    "            print(new_sc)\n",
    "            slist[index][3] = new_sc\n",
    "            slist[index][4] = avg(int(slist[index][2]),int(slist[index][3]))\n",
    "            slist[index][5] = grade(float(slist[index][4]))\n",
    "            print(\"Score Changed.\")\n",
    "            show_i(index)\n",
    "        else:\n",
    "        \n",
    "            print(\"please do it again\")\n",
    "\n",
    "        slist.sort(key = lambda x : float(x[4]), reverse = True) \n",
    "    else: \n",
    "        print(\"NO SUCH PERSON.\")\n",
    "      "
   ]
  },
  {
   "cell_type": "code",
   "execution_count": 57,
   "id": "72bf0811-6667-43da-ad3e-97ed872d015f",
   "metadata": {},
   "outputs": [
    {
     "name": "stdout",
     "output_type": "stream",
     "text": [
      " Student \t              Name\t    Midterm    \t     Final     \t    Average    \t     Grade     \n",
      " ----------------------------------------------------------------------------------------------------\n",
      "20180001 \t      Hong Gildong\t      100      \t      73       \t     86.5      \t       B       \n",
      "\n",
      "Score Changed.\n",
      " Student \t              Name\t    Midterm    \t     Final     \t    Average    \t     Grade     \n",
      " ----------------------------------------------------------------------------------------------------\n",
      "20180001 \t      Hong Gildong\t      100      \t      73       \t     86.5      \t       B       \n",
      "\n"
     ]
    }
   ],
   "source": [
    "changescore()"
   ]
  },
  {
   "cell_type": "code",
   "execution_count": 49,
   "id": "1fd9057f-a319-4f41-8c1e-8f9a3ba69bb1",
   "metadata": {},
   "outputs": [
    {
     "name": "stdout",
     "output_type": "stream",
     "text": [
      " Student \t              Name\t    Midterm    \t     Final     \t    Average    \t     Grade     \n",
      " ----------------------------------------------------------------------------------------------------\n",
      "20180009 \t      Lee Yeonghee\t      100      \t      84       \t     92.0      \t       A       \n",
      "20180002 \t         Lee Jieun\t      92       \t      89       \t     90.5      \t       A       \n",
      "202014144\t               yun\t      90       \t      90       \t     90.0      \t       A       \n",
      "   yun   \t               uin\t      90       \t      87       \t     88.5      \t       B       \n",
      "   88    \t                uu\t      90       \t      82       \t     86.0      \t       B       \n",
      "20180001 \t      Hong Gildong\t      84       \t      73       \t     78.5      \t       C       \n",
      "20180011 \t        Ha Donghun\t      58       \t      68       \t     63.0      \t       D       \n",
      "20180007 \t       Kim Cheolsu\t      57       \t      62       \t     59.5      \t       F       \n",
      "\n"
     ]
    }
   ],
   "source": [
    "show()"
   ]
  },
  {
   "cell_type": "code",
   "execution_count": 45,
   "id": "c8cae7ce-ba10-4286-adb5-2dee8f628a43",
   "metadata": {},
   "outputs": [
    {
     "name": "stdout",
     "output_type": "stream",
     "text": [
      "[['20180009', 'Lee Yeonghee', '99', '84', '91.5', 'A'], ['20180001', 'Hong Gildong', '84', '98', '91.0', 'A'], ['20180011', 'Ha Donghun', '58', '68', '63.0', 'D'], ['20180007', 'Kim Cheolsu', '57', '62', '59.5', 'F'], ['20180002', 'Lee Jieun', '20', '89', '54.5', 'F'], 1, 2, 3, 4, 5, 6, [1, 2, 3, 4, 5, 6]]\n"
     ]
    }
   ],
   "source": [
    "print(slist)"
   ]
  },
  {
   "cell_type": "code",
   "execution_count": 20,
   "id": "05062717-9765-4bf4-a9a9-98a72aad5590",
   "metadata": {},
   "outputs": [
    {
     "name": "stdout",
     "output_type": "stream",
     "text": [
      "Student added.\n",
      " Student \t              Name\t    Midterm    \t     Final     \t    Average    \t     Grade     \n",
      " ----------------------------------------------------------------------------------------------------\n",
      "20180002 \t         Lee Jieun\t      92       \t      89       \t     90.5      \t       A       \n",
      "202014144\t               yun\t      90       \t      90       \t     90.0      \t       A       \n",
      "   yun   \t               uin\t      90       \t      87       \t     88.5      \t       B       \n",
      "   88    \t                uu\t      90       \t      82       \t     86.0      \t       B       \n",
      "20180009 \t      Lee Yeonghee\t      81       \t      84       \t     82.5      \t       B       \n",
      "20180001 \t      Hong Gildong\t      84       \t      73       \t     78.5      \t       C       \n",
      "20180011 \t        Ha Donghun\t      58       \t      68       \t     63.0      \t       D       \n",
      "20180007 \t       Kim Cheolsu\t      57       \t      62       \t     59.5      \t       F       \n",
      "\n"
     ]
    }
   ],
   "source": [
    "#add\n",
    "\n",
    "target = input(\"Student ID:\")\n",
    "\n",
    "if get_i(target) >=0: \n",
    "    print(\"ALREADY EXISTS.\")\n",
    "else: \n",
    "    \n",
    "    name = input(\"Name: \")\n",
    "    mid = input(\"Midterm Score:\")\n",
    "    fin = input(\"Final Score:\")\n",
    "    avg_n = avg(mid, fin)\n",
    "    grd = grade(float(avg_n))\n",
    "    \n",
    "    newsc = [target, name,mid, fin, avg_n, grd]\n",
    "    slist.append(newsc)\n",
    "    slist.sort(key = lambda x : float(x[4]), reverse = True) \n",
    "\n",
    "    print(\"Student added.\")\n",
    "\n",
    "\n",
    "show()\n",
    "    \n",
    "\n",
    "\n",
    "\n",
    "    \n"
   ]
  },
  {
   "cell_type": "code",
   "execution_count": 21,
   "id": "2d6ddc89-e10a-428b-8a86-e5fb72a9806a",
   "metadata": {},
   "outputs": [
    {
     "ename": "NameError",
     "evalue": "name 'newlis' is not defined",
     "output_type": "error",
     "traceback": [
      "\u001b[1;31m---------------------------------------------------------------------------\u001b[0m",
      "\u001b[1;31mNameError\u001b[0m                                 Traceback (most recent call last)",
      "\u001b[1;32mc:\\Users\\formu\\Desktop\\aassig\\def22.ipynb 셀 18\u001b[0m line \u001b[0;36m1\n\u001b[0;32m      <a href='vscode-notebook-cell:/c%3A/Users/formu/Desktop/aassig/def22.ipynb#X23sZmlsZQ%3D%3D?line=0'>1</a>\u001b[0m \u001b[39m# print(\"Step 1: Input 대상\")\u001b[39;00m\n\u001b[0;32m      <a href='vscode-notebook-cell:/c%3A/Users/formu/Desktop/aassig/def22.ipynb#X23sZmlsZQ%3D%3D?line=1'>2</a>\u001b[0m \u001b[39m# s_id = input(\"대상:\")\u001b[39;00m\n\u001b[0;32m      <a href='vscode-notebook-cell:/c%3A/Users/formu/Desktop/aassig/def22.ipynb#X23sZmlsZQ%3D%3D?line=2'>3</a>\u001b[0m \u001b[39m# print(\"Step 2: Input 이름\")\u001b[39;00m\n\u001b[1;32m   (...)\u001b[0m\n\u001b[0;32m     <a href='vscode-notebook-cell:/c%3A/Users/formu/Desktop/aassig/def22.ipynb#X23sZmlsZQ%3D%3D?line=13'>14</a>\u001b[0m \u001b[39m# newlis = [s_id,name,mid,fin,avg_n,grd]\u001b[39;00m\n\u001b[0;32m     <a href='vscode-notebook-cell:/c%3A/Users/formu/Desktop/aassig/def22.ipynb#X23sZmlsZQ%3D%3D?line=14'>15</a>\u001b[0m \u001b[39m# print(\"Step 8: Print 새로운_성적 list\")\u001b[39;00m\n\u001b[1;32m---> <a href='vscode-notebook-cell:/c%3A/Users/formu/Desktop/aassig/def22.ipynb#X23sZmlsZQ%3D%3D?line=15'>16</a>\u001b[0m \u001b[39mprint\u001b[39m(newlis)\n",
      "\u001b[1;31mNameError\u001b[0m: name 'newlis' is not defined"
     ]
    }
   ],
   "source": [
    "# print(\"Step 1: Input 대상\")\n",
    "# s_id = input(\"대상:\")\n",
    "# print(\"Step 2: Input 이름\")\n",
    "# name = input(\"이름:\")\n",
    "# print(\"Step 3: Input 중간고사 점수\")\n",
    "# mid = input(\"중간고사 점수:\")\n",
    "# print(\"Step 4: Input 기말고사 점수\")\n",
    "# fin = input(\"기말고사 점수:\")\n",
    "# print(\"Step 5: Calculate 평균\")\n",
    "# avg_n = avg(float(mid), float(fin))\n",
    "# print(\"Step 6: Assign 학점\")\n",
    "# grd = grade(float(avg_n))\n",
    "# print(\"Step 7: Create 새로운_성적 list\")\n",
    "# newlis = [s_id,name,mid,fin,avg_n,grd]\n",
    "# print(\"Step 8: Print 새로운_성적 list\")\n",
    "# print(newlis)"
   ]
  },
  {
   "cell_type": "code",
   "execution_count": 58,
   "id": "733ab8d2",
   "metadata": {},
   "outputs": [
    {
     "name": "stdout",
     "output_type": "stream",
     "text": [
      "[]\n",
      "there are no .\n"
     ]
    }
   ],
   "source": [
    "#search grade\n",
    "data = \"\"\n",
    "grd_list = ['a','A','b','B','c','C','d',\"D\",'f',\"F\"]\n",
    "tar_grd = input(\"what grade?:\")\n",
    "tar = tar_grd.upper()\n",
    "#print(tar_grd)\n",
    "samegrd=[]\n",
    "if tar_grd not in grd_list:\n",
    "    print(\"there are no word\")\n",
    "    \n",
    "else:\n",
    "    for i in range(0, len(slist)):\n",
    "        if slist[i][5] == tar:\n",
    "            samegrd.append(slist[i])\n",
    "            # print(samegrd)\n",
    "            samegrd.sort(key = lambda x : float(x[4]), reverse = True) \n",
    "        \n",
    "    print(samegrd)\n",
    "    if len(samegrd) > 0:\n",
    "        for i in range(0,len(samegrd)):\n",
    "            data += \"{:^9}\\t{:>18}\\t{:^15}\\t{:^15}\\t{:^15}\\t{:^15}\\n\".format(samegrd[i][0],samegrd[i][1],samegrd[i][2],samegrd[i][3],samegrd[i][4],samegrd[i][5])\n",
    "        print(title,lines , end = \"\")\n",
    "\n",
    "        print(data)\n",
    "    else: \n",
    "        print(\"there are no .\")\n"
   ]
  },
  {
   "cell_type": "code",
   "execution_count": 59,
   "id": "92175407",
   "metadata": {},
   "outputs": [
    {
     "name": "stdout",
     "output_type": "stream",
     "text": [
      " Student \t              Name\t    Midterm    \t     Final     \t    Average    \t     Grade     \n",
      " ----------------------------------------------------------------------------------------------------\n",
      "20180009 \t      Lee Yeonghee\t      100      \t      84       \t     92.0      \t       A       \n",
      "20180002 \t         Lee Jieun\t      92       \t      89       \t     90.5      \t       A       \n",
      "202014144\t               yun\t      90       \t      90       \t     90.0      \t       A       \n",
      "   yun   \t               uin\t      90       \t      87       \t     88.5      \t       B       \n",
      "20180001 \t      Hong Gildong\t      100      \t      73       \t     86.5      \t       B       \n",
      "   88    \t                uu\t      90       \t      82       \t     86.0      \t       B       \n",
      "20180011 \t        Ha Donghun\t      58       \t      68       \t     63.0      \t       D       \n",
      "20180007 \t       Kim Cheolsu\t      57       \t      62       \t     59.5      \t       F       \n",
      "\n"
     ]
    }
   ],
   "source": [
    "show()"
   ]
  },
  {
   "cell_type": "code",
   "execution_count": 21,
   "id": "d1e735f4",
   "metadata": {},
   "outputs": [
    {
     "name": "stdout",
     "output_type": "stream",
     "text": [
      "Empty list\n",
      " Student \t              Name\t    Midterm    \t     Final     \t    Average    \t     Grade     \n",
      " ----------------------------------------------------------------------------------------------------\n",
      "\n"
     ]
    }
   ],
   "source": [
    "#없으면 없다 그런 사람\n",
    "#있으면 지우고 지웠다고 ㅎ\n",
    "#그리고 그 뭐냐 그 그그그리스트가 비워져있으면 엠티 리스트라고 말해라\n",
    "\n",
    "if len(slist) == 0 :\n",
    "    print(\"Empty list\")\n",
    "else:\n",
    "    target = input(\"Student ID:\")\n",
    "    i = get_i(target)\n",
    "\n",
    "    if i < 0:\n",
    "        print(\"No such person\")\n",
    "    else:\n",
    "        del slist[i]\n",
    "        print(\"deleted\")\n",
    "\n",
    "\n",
    "show()"
   ]
  }
 ],
 "metadata": {
  "kernelspec": {
   "display_name": "Python 3 (ipykernel)",
   "language": "python",
   "name": "python3"
  },
  "language_info": {
   "codemirror_mode": {
    "name": "ipython",
    "version": 3
   },
   "file_extension": ".py",
   "mimetype": "text/x-python",
   "name": "python",
   "nbconvert_exporter": "python",
   "pygments_lexer": "ipython3",
   "version": "3.11.0"
  }
 },
 "nbformat": 4,
 "nbformat_minor": 5
}
