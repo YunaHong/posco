{
 "cells": [
  {
   "cell_type": "code",
   "execution_count": 22,
   "id": "0ca65546-948b-402d-97ac-2d4072d39836",
   "metadata": {},
   "outputs": [],
   "source": [
    "# balance = 0\n",
    "\n",
    "# def deposit(amount):\n",
    "#     global balance\n",
    "#     balance += amount\n",
    "#     # print(balance)\n",
    "#     return balance\n",
    "\n",
    "# def withdraw(amount):\n",
    "#     global balance \n",
    "#     if amount > balance :\n",
    "#         print(\"출금 불가\")\n",
    "#         return balance\n",
    "#     else: \n",
    "#         balance -= amount\n",
    "#     # print(balance)\n",
    "#         return balance\n",
    "# print(balance)\n",
    "# print(deposit(500))\n",
    "# print(balance)\n",
    "# print(withdraw(510))\n",
    "# print(balance)"
   ]
  },
  {
   "cell_type": "code",
   "execution_count": 34,
   "id": "559d7354-cbc3-436b-a783-4d80a50e81c6",
   "metadata": {},
   "outputs": [
    {
     "name": "stdout",
     "output_type": "stream",
     "text": [
      "welcome\n",
      "welcome\n",
      "400\n"
     ]
    }
   ],
   "source": [
    "class Human:\n",
    "    def __init__(self):\n",
    "        self.name = \"yun\"\n",
    "        self.bal = 0\n",
    "        print(\"welcome\")\n",
    "    def deposit(self,amount):\n",
    "        self.bal += amount\n",
    "        print(self.bal)\n",
    "\n",
    "a = Human()\n",
    "b = Human()\n",
    "a.deposit(400)"
   ]
  },
  {
   "cell_type": "code",
   "execution_count": 37,
   "id": "521d3257-4e78-4510-ab23-82a0881178a9",
   "metadata": {},
   "outputs": [
    {
     "name": "stdout",
     "output_type": "stream",
     "text": [
      "13\n",
      "14\n",
      "180\n",
      "10000\n",
      "홍윤아\n"
     ]
    }
   ],
   "source": [
    "#클래스 실습\n",
    "class Person:\n",
    "    def __init__(self,name, age, height, weight):\n",
    "        self.name = name\n",
    "        self.age = age\n",
    "        self.height = height\n",
    "        self.weight = weight\n",
    "    def print_name(self):\n",
    "        print(self.name)\n",
    "        \n",
    "    def aging (self):\n",
    "        self.age += 1\n",
    "    \n",
    "    def re_height(self, height):\n",
    "        self.height = height\n",
    "    \n",
    "    def re_weight(self, weight):\n",
    "        self.weight = weight\n",
    "\n",
    "h = Person(\"홍길동\", 13, 140, 40)\n",
    "yun = Person(\"홍윤아\", 20,180,180)\n",
    "print(h.age)\n",
    "h.aging()\n",
    "print(h.age)\n",
    "print(yun.weight)\n",
    "yun.re_weight(10000)\n",
    "print(yun.weight)\n",
    "print(yun.name)"
   ]
  },
  {
   "cell_type": "markdown",
   "id": "e732cfa2-b510-4da0-9c69-eb6bc323abd5",
   "metadata": {},
   "source": [
    "### self : 인스턴스의 직관적인 사용 및 사용자 편의 도모"
   ]
  },
  {
   "cell_type": "code",
   "execution_count": 55,
   "id": "586fce9e-08c8-464f-b62f-66a1ff7ae396",
   "metadata": {},
   "outputs": [
    {
     "name": "stdout",
     "output_type": "stream",
     "text": [
      "홍윤아\n",
      "홍윤아\n"
     ]
    }
   ],
   "source": [
    "Person.print_name(yun)\n",
    "yun.print_name()"
   ]
  },
  {
   "cell_type": "markdown",
   "id": "24c124be-1ae7-40d7-988e-36c444cfacbf",
   "metadata": {},
   "source": [
    "------\n",
    "클래스 변수로 mutable data 들어오면, 한 인스턴스의 클래스변수 바꿀 때, 다른 인스턴스의 클래스변수도 같이 바뀜!\n",
    "</br>다만, immutable data 들어왔을 때 한 인스턴스 클래스 변수를 수정하면 수정한 클래스 변수만 값 바껴있고, 다른 인스턴스는 원래 클래스 변수 그대로 유지됨."
   ]
  },
  {
   "cell_type": "code",
   "execution_count": 174,
   "id": "b7b15992-a682-4cc5-a442-70ed54ab9ff1",
   "metadata": {},
   "outputs": [
    {
     "name": "stdout",
     "output_type": "stream",
     "text": [
      "이름: none\n",
      "잔고: 100\n",
      "잔액 부족\n",
      "이름: none\n",
      "잔고: 300\n",
      "이름: j\n",
      "잔고: 0\n",
      "이름: j\n",
      "잔고: 200\n",
      "이름: none\n",
      "잔고: 100\n"
     ]
    }
   ],
   "source": [
    "#실습문제 1\n",
    "class BankAccount:\n",
    "    def __init__(self,bal=0,name=\"none\"):\n",
    "        self.balance = bal\n",
    "        self.name = name\n",
    "\n",
    "    def deposit(self, amount):\n",
    "        self.balance += amount\n",
    "\n",
    "    def withdraw(self, amount):\n",
    "        if amount > self.balance :\n",
    "            print(\"잔액 부족\")\n",
    "            return False\n",
    "        else:\n",
    "            self.balance -= amount\n",
    "            return True\n",
    "            \n",
    "    def get_info(self):\n",
    "        print(\"이름: %s\" %self.name)\n",
    "        print(\"잔고: %d\" %self.balance)\n",
    "   \n",
    "    ###실습 2 ###    \n",
    "    def transfer(self, other, amount):\n",
    "        # if amount > self.balance:\n",
    "        #     print(\"잔액 부족\")\n",
    "        # else:\n",
    "        #     self.balance -= amount\n",
    "        #     other.balance += amount\n",
    "        if self.withdraw(amount):\n",
    "            other.deposit(amount)\n",
    "            \n",
    "a = BankAccount(100)\n",
    "a.get_info()\n",
    "a.withdraw(500)\n",
    "a.deposit(500)\n",
    "a.withdraw(300)\n",
    "a.get_info()\n",
    "b = BankAccount(name=\"j\")\n",
    "b.get_info()\n",
    "a.transfer(b,200)\n",
    "b.get_info()\n",
    "a.get_info()"
   ]
  },
  {
   "cell_type": "code",
   "execution_count": 175,
   "id": "2d97211f-e4d9-4cca-90a1-ef64fb5095ca",
   "metadata": {},
   "outputs": [
    {
     "name": "stdout",
     "output_type": "stream",
     "text": [
      "이름: jin\n",
      "잔고: 200\n",
      "최소 잔액을 유지해야 합니다.\n",
      "이름: jin\n",
      "잔고: 700\n",
      "이름: jin\n",
      "잔고: 600\n",
      "이름: jin\n",
      "잔고: 500\n",
      "이름: j\n",
      "잔고: 200\n"
     ]
    }
   ],
   "source": [
    "#실습 3\n",
    "class MinBalanceAccount(BankAccount):\n",
    "    def __init__(self, balance = 0, name = \"none\", min_bal = 0):\n",
    "        super().__init__(balance,name)\n",
    "        # self.balance = balance\n",
    "        # self.name = name\n",
    "        self.min_bal = min_bal\n",
    "        \n",
    "    def withdraw(self, amount):\n",
    "        if self.balance - amount <self.min_bal :\n",
    "            print(\"최소 잔액을 유지해야 합니다.\")\n",
    "            return False\n",
    "        \n",
    "        else:\n",
    "            super().withdraw(amount)\n",
    "  \n",
    "          \n",
    "    # def transfer(self, other, amount):\n",
    "    #     # if amount > self.balance:\n",
    "    #     #     print(\"잔액 부족\")function annotation vkdlTJs\n",
    "    #     # elif self.balance - amount <self.min_bal :\n",
    "    #     #     print(\"최소 잔액을 유지해야 합니다.\")    \n",
    "    #     # else:\n",
    "    #     #     self.balance -= amount\n",
    "    #     #     other.balance += amount\n",
    "    #     ##################################################33\n",
    "    #     if self.withdraw(amount):\n",
    "    #         other.deposit(amount)\n",
    "jin = MinBalanceAccount(200,\"jin\",500)\n",
    "jin.get_info()\n",
    "jin.deposit(500)\n",
    "jin.withdraw(400)\n",
    "jin.get_info()\n",
    "jin.withdraw(100)\n",
    "jin.get_info()\n",
    "jin.transfer(b,100)\n",
    "jin.get_info()\n",
    "b.get_info()"
   ]
  },
  {
   "cell_type": "code",
   "execution_count": 203,
   "id": "5633605b-b057-42ef-bd09-d96336622a69",
   "metadata": {},
   "outputs": [],
   "source": [
    "#과제 1\n",
    "class Set:\n",
    "    def __init__(self,list = []):\n",
    "        self.set = []\n",
    "        for l in list:\n",
    "            if l not in self.set:\n",
    "                (self.set).append(l)\n",
    " \n",
    "    def add(self, elem):\n",
    "       #if elem not in self.set:  \n",
    "       if (self.__contains__(elem)) == False:\n",
    "            self.set.append(elem)\n",
    "       print(self.set)\n",
    "   \n",
    "    def discard(self, elem):\n",
    "        try:\n",
    "            self.set.remove(elem)\n",
    "        except:\n",
    "            print(\"%s는 존재 하지 않음.\" %elem)\n",
    "        # # if elem in self.set:\n",
    "        # #     self.set.remove(elem)\n",
    "        # print(self.set)\n",
    "   \n",
    "    def clear(self):\n",
    "        while(len(self.set)>0):\n",
    "            self.set.pop()\n",
    "        #self.set.clear()\n",
    "        #print(self.set)\n",
    "    \n",
    "    def __len__(self):\n",
    "        return len(self.set)\n",
    "\n",
    "    \n",
    "    def __str__(self): # print함수 재정의하라고\n",
    "        str = \"{\"\n",
    "        #print(\"{\",end=\"\")\n",
    "        for i in range(0,len(self.set)) :\n",
    "            str += \"%s\" %self.set[i]\n",
    "            if (i == (len(self.set))-1):\n",
    "                break\n",
    "            str += \", \"\n",
    "\n",
    "            \n",
    "        str += \"}\"\n",
    "        return str\n",
    "\n",
    "    \n",
    "    def __contains__(self, elem):\n",
    "        if elem in self.set :\n",
    "            return True\n",
    "        return False\n",
    "        \n",
    "\n",
    "        "
   ]
  },
  {
   "cell_type": "code",
   "execution_count": 202,
   "id": "4ca7f142-f4ef-46d9-8aaa-bd300edf6885",
   "metadata": {},
   "outputs": [
    {
     "name": "stdout",
     "output_type": "stream",
     "text": [
      "[1, 3, 5, 2, 4]\n",
      "[1, 3, 5, 2, 4, 90]\n",
      "44는 존재 하지 않음.\n",
      "True\n",
      "False\n",
      "{3, 5, 2, 4, 90}\n"
     ]
    }
   ],
   "source": [
    "s1 = Set([1,3,3,5,2,4])\n",
    "\n",
    "s1.add(1)\n",
    "s1.add(90)\n",
    "s1.discard(1)\n",
    "s1.discard(44)\n",
    "#s1.clear()\n",
    "#print(s1)\n",
    "\n",
    "\n",
    "print(s1.__contains__(3))\n",
    "print(s1.__contains__(76))\n",
    "print(s1)"
   ]
  },
  {
   "cell_type": "code",
   "execution_count": 148,
   "id": "14a15006-9dda-482c-a5f8-6c03acb6317d",
   "metadata": {},
   "outputs": [
    {
     "name": "stdout",
     "output_type": "stream",
     "text": [
      "5\n"
     ]
    }
   ],
   "source": [
    "print(s1.__len__())"
   ]
  },
  {
   "cell_type": "code",
   "execution_count": null,
   "id": "4769bce0-6af7-4c3a-9a11-c76a35d54e78",
   "metadata": {},
   "outputs": [],
   "source": [
    "\n"
   ]
  }
 ],
 "metadata": {
  "kernelspec": {
   "display_name": "Python 3 (ipykernel)",
   "language": "python",
   "name": "python3"
  },
  "language_info": {
   "codemirror_mode": {
    "name": "ipython",
    "version": 3
   },
   "file_extension": ".py",
   "mimetype": "text/x-python",
   "name": "python",
   "nbconvert_exporter": "python",
   "pygments_lexer": "ipython3",
   "version": "3.10.13"
  }
 },
 "nbformat": 4,
 "nbformat_minor": 5
}
