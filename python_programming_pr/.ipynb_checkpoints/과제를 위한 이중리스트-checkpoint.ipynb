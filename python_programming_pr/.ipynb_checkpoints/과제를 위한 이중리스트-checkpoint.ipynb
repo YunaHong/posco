{
 "cells": [
  {
   "cell_type": "code",
   "execution_count": 3,
   "id": "7dada473-feb9-4fa9-a842-8d05a0d205b6",
   "metadata": {},
   "outputs": [],
   "source": [
    "slit=[[201801, 84, 73], [201802, 92, 89], [201803, 57, 62], [201804, 58, 68]]"
   ]
  },
  {
   "cell_type": "code",
   "execution_count": 5,
   "id": "dbe7ee8a-bc3d-427b-906a-c0ac5e5dd872",
   "metadata": {},
   "outputs": [
    {
     "name": "stdout",
     "output_type": "stream",
     "text": [
      "[201801, 84, 73]\n"
     ]
    }
   ],
   "source": [
    "print(slit[0])"
   ]
  },
  {
   "cell_type": "code",
   "execution_count": 8,
   "id": "14127510-edf2-4d1f-8b34-506e19ee2403",
   "metadata": {},
   "outputs": [
    {
     "name": "stdout",
     "output_type": "stream",
     "text": [
      "[201802, 92, 89]\n"
     ]
    }
   ],
   "source": [
    "print(slit[1])"
   ]
  },
  {
   "cell_type": "code",
   "execution_count": 9,
   "id": "e566a17e-b93f-4263-91ce-d9bb2b77875a",
   "metadata": {},
   "outputs": [
    {
     "data": {
      "text/plain": [
       "73"
      ]
     },
     "execution_count": 9,
     "metadata": {},
     "output_type": "execute_result"
    }
   ],
   "source": [
    "slit[0][2]"
   ]
  },
  {
   "cell_type": "code",
   "execution_count": 12,
   "id": "7be89657-28f9-49a3-8507-15541a2ff218",
   "metadata": {},
   "outputs": [],
   "source": [
    "#정렬\n",
    "slit.sort() #젤 첫번째 원소로 적용 됨."
   ]
  },
  {
   "cell_type": "code",
   "execution_count": 13,
   "id": "86e0ee55-2da6-4a2f-9bea-dc3e49f8487c",
   "metadata": {},
   "outputs": [
    {
     "data": {
      "text/plain": [
       "[[201801, 84, 73], [201802, 92, 89], [201803, 57, 62], [201804, 58, 68]]"
      ]
     },
     "execution_count": 13,
     "metadata": {},
     "output_type": "execute_result"
    }
   ],
   "source": [
    "slit"
   ]
  },
  {
   "cell_type": "code",
   "execution_count": 14,
   "id": "51798452-ade4-49c2-b86f-7af5e2c416eb",
   "metadata": {},
   "outputs": [
    {
     "data": {
      "text/plain": [
       "89"
      ]
     },
     "execution_count": 14,
     "metadata": {},
     "output_type": "execute_result"
    }
   ],
   "source": [
    "def f(e):\n",
    "    return e[2]\n",
    "f(slit[1]) #2행 3열"
   ]
  },
  {
   "cell_type": "code",
   "execution_count": 18,
   "id": "c9a147af-30f5-4268-9629-37e78d6d4364",
   "metadata": {},
   "outputs": [
    {
     "data": {
      "text/plain": [
       "[[201802, 92, 89], [201801, 84, 73], [201804, 58, 68], [201803, 57, 62]]"
      ]
     },
     "execution_count": 18,
     "metadata": {},
     "output_type": "execute_result"
    }
   ],
   "source": [
    "slit.sort(key =lambda e : e[2], reverse = True) #3번째 원소값을 기준으로 정렬하라\n",
    "slit"
   ]
  },
  {
   "cell_type": "code",
   "execution_count": null,
   "id": "9ba22b33-6ffc-4cdd-8645-a082a6c39879",
   "metadata": {},
   "outputs": [],
   "source": []
  }
 ],
 "metadata": {
  "kernelspec": {
   "display_name": "Python 3 (ipykernel)",
   "language": "python",
   "name": "python3"
  },
  "language_info": {
   "codemirror_mode": {
    "name": "ipython",
    "version": 3
   },
   "file_extension": ".py",
   "mimetype": "text/x-python",
   "name": "python",
   "nbconvert_exporter": "python",
   "pygments_lexer": "ipython3",
   "version": "3.10.13"
  }
 },
 "nbformat": 4,
 "nbformat_minor": 5
}
