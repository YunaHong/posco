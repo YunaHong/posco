{
 "cells": [
  {
   "cell_type": "code",
   "execution_count": 3,
   "id": "5b5f4c5d-75e0-4541-9512-273494e569fb",
   "metadata": {},
   "outputs": [],
   "source": [
    "#ㅛㅁ"
   ]
  },
  {
   "cell_type": "code",
   "execution_count": 5,
   "id": "60f738fd-7811-4e11-b30a-89d8d6793ef2",
   "metadata": {},
   "outputs": [
    {
     "data": {
      "text/plain": [
       "[1, 2, 3, 4]"
      ]
     },
     "execution_count": 5,
     "metadata": {},
     "output_type": "execute_result"
    }
   ],
   "source": [
    "lst = []\n",
    "lst.append(1)\n",
    "for i in range(2,5):\n",
    "    lst.append(i)\n",
    "lst"
   ]
  }
 ],
 "metadata": {
  "kernelspec": {
   "display_name": "Python 3 (ipykernel)",
   "language": "python",
   "name": "python3"
  },
  "language_info": {
   "codemirror_mode": {
    "name": "ipython",
    "version": 3
   },
   "file_extension": ".py",
   "mimetype": "text/x-python",
   "name": "python",
   "nbconvert_exporter": "python",
   "pygments_lexer": "ipython3",
   "version": "3.10.13"
  }
 },
 "nbformat": 4,
 "nbformat_minor": 5
}
