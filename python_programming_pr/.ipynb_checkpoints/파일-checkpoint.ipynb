{
 "cells": [
  {
   "cell_type": "markdown",
   "id": "f5e1efe4-d91e-446e-8331-1d417e6a2665",
   "metadata": {},
   "source": [
    "## 파일\n",
    "f = open(\"파일이름\", \"열기모드\")\n",
    "</br> f.close()\n",
    "- r: 읽기모드 / 파일 처음부터 읽는다.\n",
    "- w: 쓰기 모드 / 새로운 파일 만들 때 권장. - 파일의 처음부터 쓰며, 없으면 생성되고, 이미 존재시 기존 내용 사라짐\n",
    "- a: 추가모드 / 파일의 마지막에 내용추가 , 파일 없으면 생성됨."
   ]
  },
  {
   "cell_type": "code",
   "execution_count": 6,
   "id": "4d890da0-141e-48a4-9284-1b9854e9cd27",
   "metadata": {},
   "outputs": [],
   "source": [
    "f = open(\"new.txt\", \"w\")\n",
    "\n",
    "for i in range(1,6):\n",
    "    f.write(\"%d line\\n\" %i)\n",
    "\n",
    "f.write(\"Hello, World!\")\n",
    "\n",
    "f.close()"
   ]
  },
  {
   "cell_type": "code",
   "execution_count": 11,
   "id": "5b39f7b0-4d55-4c5b-8296-94f9934cb658",
   "metadata": {},
   "outputs": [
    {
     "name": "stdout",
     "output_type": "stream",
     "text": [
      "1 line\n",
      "2 line\n",
      "['3 line\\n', '4 line\\n', '5 line\\n', 'Hello, World!']\n"
     ]
    }
   ],
   "source": [
    "f = open(\"new.txt\",\"r\")\n",
    "\n",
    "line = f.readline()\n",
    "print(line, end='')\n",
    "line = f.readline() # 다음 라인으로 넘어가게 되네\n",
    "print(line, end='')\n",
    "\n",
    "lines = f.readlines() # 각 문장들이 리스트로 나오게 되네\n",
    "print(lines)\n",
    "f.close()"
   ]
  },
  {
   "cell_type": "code",
   "execution_count": 16,
   "id": "ccdf0b85-b7ee-41ce-9360-70a59c134684",
   "metadata": {},
   "outputs": [
    {
     "name": "stdout",
     "output_type": "stream",
     "text": [
      "1 line\n",
      "2 line\n",
      "3 line\n",
      "4 line\n",
      "5 line\n",
      "Hello, World!\n"
     ]
    }
   ],
   "source": [
    "f = open(\"new.txt\",\"r\")\n",
    "data = f.read() #txt 형태로 표현이 되네\n",
    "print(data)\n",
    "f.close()"
   ]
  },
  {
   "cell_type": "code",
   "execution_count": 1,
   "id": "5c44cbf3-9ec4-47db-a0ee-2d43e7667a86",
   "metadata": {},
   "outputs": [
    {
     "name": "stdout",
     "output_type": "stream",
     "text": [
      "1 line\n",
      "2 line\n",
      "3 line\n",
      "4 line\n",
      "5 line\n",
      "Hello, World!"
     ]
    }
   ],
   "source": [
    "f = open(\"new.txt\",\"r\")\n",
    "for line in f:\n",
    "    print(line, end='')\n",
    "f.close()"
   ]
  },
  {
   "cell_type": "code",
   "execution_count": 4,
   "id": "c01adfd1-c6a2-4f1f-94a0-24fd5f32ffb6",
   "metadata": {},
   "outputs": [],
   "source": [
    "f = open(\"new.txt\", \"a\")\n",
    "f.write(\"\\n\")\n",
    "for i in range(6,11):\n",
    "    data = \"%d line\\n\" %i\n",
    "    f.write(data)\n",
    "f.close()"
   ]
  },
  {
   "cell_type": "code",
   "execution_count": 5,
   "id": "d308e726-c9e9-4c4a-9b3a-c37712d015f4",
   "metadata": {},
   "outputs": [],
   "source": [
    "with open(\"new.txt\",\"a\")as f: #close() 안써도 됨\n",
    "    f.write(\"야호\")"
   ]
  },
  {
   "cell_type": "code",
   "execution_count": 25,
   "id": "ed4ea444-f9a0-4d7b-8e5f-198f3198cfe4",
   "metadata": {},
   "outputs": [
    {
     "name": "stdout",
     "output_type": "stream",
     "text": [
      "first\n",
      "line\n",
      "second\n",
      "line\n",
      "third\n",
      "line\n",
      "{'first': 1, 'line': 3, 'second': 1, 'third': 1}\n"
     ]
    }
   ],
   "source": [
    "#실습 1 단어의 수 \n",
    "with open(\"test.txt\",\"r\") as f:\n",
    "    d = {}\n",
    "    keys= []\n",
    "    for l in f:\n",
    "        word_list = l.split()\n",
    "        for w in word_list:\n",
    "            keys.append(w)\n",
    "     \n",
    "    for word in keys:\n",
    "\n",
    "        if word in d.keys():\n",
    "            d[word] += 1\n",
    "        else: \n",
    "            d[word] = 1\n",
    "    print(d)\n",
    "            "
   ]
  },
  {
   "cell_type": "code",
   "execution_count": 37,
   "id": "45b35290-3b0a-41e4-af79-f7724ea2109a",
   "metadata": {},
   "outputs": [
    {
     "name": "stdout",
     "output_type": "stream",
     "text": [
      "first 1\n",
      "line 3\n",
      "second 1\n",
      "third 1\n"
     ]
    }
   ],
   "source": [
    "with open(\"test.txt\",\"r\") as f:\n",
    "    d = {}\n",
    "    for l in f:\n",
    "        word_list = l.split()\n",
    "        for word in word_list:\n",
    "            if word in d:\n",
    "                d[word] += 1\n",
    "            else:\n",
    "                d[word] = 1\n",
    "    #print(d)\n",
    "    for key in d.keys():\n",
    "        print(key, d[key])"
   ]
  },
  {
   "cell_type": "code",
   "execution_count": 38,
   "id": "c9c546cd-d3df-42e2-9746-58f987e1f510",
   "metadata": {},
   "outputs": [
    {
     "name": "stdout",
     "output_type": "stream",
     "text": [
      "FIRST LINE\n",
      "SECOND LINE\n",
      "THIRD LINE"
     ]
    }
   ],
   "source": [
    "#실습 2 파일 내용 모두 대문자 출력, 파일 없으면 존재 안함 메시지\n",
    "import os\n",
    "file_name = input(\"File name: \")\n",
    "if os.path.exists(file_name):\n",
    "    f = open(file_name,\"r\")\n",
    "    for l in f:\n",
    "        if l.islower():\n",
    "            print(l.upper(), end =\"\")\n",
    "        else:\n",
    "            print(l)\n",
    "    f.close()\n",
    "\n",
    "else:\n",
    "    print(\"파일 존재하지 않아용\")"
   ]
  },
  {
   "cell_type": "code",
   "execution_count": 51,
   "id": "b253ff0d-7fe7-4113-8ec4-6f714286dadc",
   "metadata": {},
   "outputs": [],
   "source": [
    "#실습 3 학생들 성적 처리해서 결과를 report.txt로 출력\n",
    "import os\n",
    "f = open(\"score.txt\", \"r\")\n",
    "score = []\n",
    "for l in f:\n",
    "    id_n = l[0:6]\n",
    "    scores = l[8:]\n",
    "    score = scores.split()\n",
    "    sum = 0 \n",
    "    for s in score:\n",
    "        #print(s)\n",
    "        sum += int(s)\n",
    "        mean = sum/2\n",
    "        if mean < 60:\n",
    "            rec = \"F\"\n",
    "        elif mean <70:\n",
    "            rec = \"D\"\n",
    "        elif mean < 80:\n",
    "            rec = \"C\"\n",
    "        elif mean < 90:\n",
    "            rec = \"B\"\n",
    "        else: \n",
    "            rec = \"A\"\n",
    "    if os.path.exists(\"report.txt\"):\n",
    "        f1 = open(\"report.txt\",\"a\")\n",
    "        data = \"%s %f (%s) \\n\" %(id_n,mean,rec)\n",
    "        f1.write(data)\n",
    "    else:\n",
    "        f1 = open(\"report.txt\",\"w\")\n",
    "        data = \"%s %f (%s) \\n\" %(id_n,mean,rec)\n",
    "        f1.write(data)\n",
    "        \n",
    "    # for s in scores.split():\n",
    "    #     score.append(s)\n",
    "#print(score)\n",
    "f.close()\n",
    "f1.close()"
   ]
  },
  {
   "cell_type": "code",
   "execution_count": 64,
   "id": "3385b2da-9a60-4476-9d0a-b33ae4b0f64d",
   "metadata": {},
   "outputs": [],
   "source": [
    "def scoring(mean):\n",
    "    if mean < 60:\n",
    "            rec = \"F\"\n",
    "    elif mean <70:\n",
    "            rec = \"D\"\n",
    "    elif mean < 80:\n",
    "            rec = \"C\"\n",
    "    elif mean < 90:\n",
    "            rec = \"B\"\n",
    "    else: \n",
    "            rec = \"A\"\n",
    "    return rec\n",
    "    \n",
    "def mean(s1, s2):\n",
    "    sum = s1 + s2\n",
    "    mean = sum/2\n",
    "    return mean\n"
   ]
  },
  {
   "cell_type": "code",
   "execution_count": 68,
   "id": "270beb4c-9801-4798-95dc-1f192c2e2272",
   "metadata": {},
   "outputs": [],
   "source": [
    "import os\n",
    "f = open(\"score.txt\", \"r\")\n",
    "score = []\n",
    "for l in f:\n",
    "    id_n = l[0:6]\n",
    "    scores = l[8:]\n",
    "    score = scores.split()\n",
    "    sum = 0 \n",
    "    #print(int(score[0]))\n",
    "    means = mean(int(score[0]),int(score[1]))\n",
    "    rec = scoring(means)\n",
    "    #print(rec)\n",
    "    if os.path.exists(\"report.txt\"):\n",
    "        f1 = open(\"report.txt\",\"a\")\n",
    "        data = \"%s %f (%s) \\n\" %(id_n,means,rec)\n",
    "        f1.write(data)\n",
    "    else:\n",
    "        f1 = open(\"report.txt\",\"w\")\n",
    "        data = \"%s %f (%s) \\n\" %(id_n,means,rec)\n",
    "        f1.write(data)\n",
    "        \n",
    "\n",
    "f.close()\n",
    "f1.close()"
   ]
  },
  {
   "cell_type": "code",
   "execution_count": 71,
   "id": "7a063be2-e8e8-4719-9ed4-9f8bd98b6d3b",
   "metadata": {},
   "outputs": [],
   "source": [
    "def grade(mean):\n",
    "    if mean < 60:\n",
    "        return\"F\"\n",
    "    elif mean <70:\n",
    "        return \"D\"\n",
    "    elif mean < 80:\n",
    "        return \"C\"\n",
    "    elif mean < 90:\n",
    "        return \"B\"\n",
    "    else: \n",
    "        return \"A\""
   ]
  },
  {
   "cell_type": "code",
   "execution_count": 74,
   "id": "c09653b7-c697-4536-a137-af1ead3a6f37",
   "metadata": {},
   "outputs": [
    {
     "name": "stdout",
     "output_type": "stream",
     "text": [
      "[['202301', '89', '78', 83.5, 'B'], ['202302', '76', '84', 80.0, 'B'], ['202303', '67', '42', 54.5, 'F'], ['202304', '66', '88', 77.0, 'C'], ['202305', '98', '99', 98.5, 'A']]\n",
      "202305 98.5(A)\n",
      "\n",
      "202301 83.5(B)\n",
      "\n",
      "202302 80.0(B)\n",
      "\n",
      "202304 77.0(C)\n",
      "\n",
      "202303 54.5(F)\n",
      "\n"
     ]
    }
   ],
   "source": [
    "#조교님 풀이\n",
    "sl = []\n",
    "f = open(\"score.txt\", \"r\")\n",
    "for l in f:\n",
    "    s = l.split()\n",
    "    s.append((int(s[1])+int(s[2]))/2)\n",
    "    s.append(grade(s[3]))\n",
    "    sl.append(s)\n",
    "    \n",
    "print(sl)\n",
    "sl.sort(key = lambda x: x[3], reverse = True)\n",
    "f.close()\n",
    "\n",
    "f = open(\"report.txt\", \"w\")\n",
    "for s in sl:\n",
    "    st = s[0]\n",
    "    st += \" \"\n",
    "    st += str(s[3])\n",
    "    st +=\"(\"\n",
    "    st += s[4]\n",
    "    st += \")\"\n",
    "    st += \"\\n\"\n",
    "    print(st)\n",
    "    f.write(st)\n",
    "f.close()"
   ]
  },
  {
   "cell_type": "code",
   "execution_count": 76,
   "id": "773b7b9e-9e17-43b1-a12d-79644733b316",
   "metadata": {},
   "outputs": [
    {
     "name": "stdout",
     "output_type": "stream",
     "text": [
      "-f\n",
      "/home/piai/.local/share/jupyter/runtime/kernel-cfce12b3-1b4e-41e4-87a6-c7225edbbc27.json\n"
     ]
    }
   ],
   "source": [
    "import sys\n",
    "args = sys.argv[1:]\n",
    "#python 뒤에 무슨 이름  argv[0] 은 실행시키는 파일임.\n",
    "for i in args:\n",
    "    print(i)"
   ]
  },
  {
   "cell_type": "code",
   "execution_count": null,
   "id": "2dfc5259-a641-4eb3-b5b5-e038400440e0",
   "metadata": {},
   "outputs": [],
   "source": [
    "import sys\n",
    "input_f = sys.argv[1]\n",
    "output_f = sys.argv[2]\n",
    "#input file\n",
    "f = open(input_f,\"r\")\n",
    "l = f.readlines()\n",
    "f.close()\n",
    "\n",
    "#output file\n",
    "f = open(output_f,\"w\")\n",
    "for line in l:\n",
    "    f.write(line)\n",
    "f.close()\n",
    "\n"
   ]
  },
  {
   "cell_type": "code",
   "execution_count": null,
   "id": "24914005-567e-4d40-8adf-c925cd0c774c",
   "metadata": {},
   "outputs": [],
   "source": []
  }
 ],
 "metadata": {
  "kernelspec": {
   "display_name": "Python 3 (ipykernel)",
   "language": "python",
   "name": "python3"
  },
  "language_info": {
   "codemirror_mode": {
    "name": "ipython",
    "version": 3
   },
   "file_extension": ".py",
   "mimetype": "text/x-python",
   "name": "python",
   "nbconvert_exporter": "python",
   "pygments_lexer": "ipython3",
   "version": "3.10.13"
  }
 },
 "nbformat": 4,
 "nbformat_minor": 5
}
