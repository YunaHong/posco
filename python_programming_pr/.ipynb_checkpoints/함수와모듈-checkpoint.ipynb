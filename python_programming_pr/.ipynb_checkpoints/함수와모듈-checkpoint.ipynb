{
 "cells": [
  {
   "cell_type": "markdown",
   "id": "3f4cb55a-707d-4011-a5c2-bde8e1068a40",
   "metadata": {},
   "source": [
    "## 함수\n",
    "코드 재사용 및 절차적 분해\n",
    "- 중복되는 부분 한 번만 작성, 간결 코드 수정 용이\n",
    "- 큰 처리 절차보다 작은 작업 구현이 쉬움"
   ]
  },
  {
   "cell_type": "code",
   "execution_count": 14,
   "id": "0be7a124-802e-4d05-b6df-330ce16333e9",
   "metadata": {},
   "outputs": [
    {
     "name": "stdout",
     "output_type": "stream",
     "text": [
      "(8, 15)\n"
     ]
    }
   ],
   "source": [
    "def add_and_mul(a,b):\n",
    "    return (a+b, a*b) #튜플로 결과값 나오게 됨/\n",
    "a = add_and_mul(3,5) \n",
    "print(a)\n"
   ]
  },
  {
   "cell_type": "code",
   "execution_count": 2,
   "id": "26c92670-6214-439c-871f-afa927314610",
   "metadata": {},
   "outputs": [
    {
     "name": "stdout",
     "output_type": "stream",
     "text": [
      "6 14\n",
      "6 14\n"
     ]
    }
   ],
   "source": [
    "#실습 1 len() 구현\n",
    "def my_len(x):\n",
    "    length = 0\n",
    "    for i in x:\n",
    "        length +=1\n",
    "    return length\n",
    "\n",
    "a = [5,5,6,7,8,3]\n",
    "b = 'Life is short.'\n",
    "print(len(a), len(b))\n",
    "print(my_len(a), my_len(b))"
   ]
  },
  {
   "cell_type": "code",
   "execution_count": 29,
   "id": "2ad7adf7-87a5-4777-a946-171c44d07457",
   "metadata": {},
   "outputs": [
    {
     "name": "stdout",
     "output_type": "stream",
     "text": [
      "3\n",
      "10\n",
      "120\n"
     ]
    }
   ],
   "source": [
    "#실습 2 양의 정수 곱하기 함수\n",
    "def mult(a,b):\n",
    "    return a*b\n",
    "print(mult(1,3))\n",
    "print(mult(2,5))\n",
    "\n",
    "#a~b까지 곱하기\n",
    "def multp(a,b):\n",
    "    result = 1\n",
    "    for i in range(a, b+1):\n",
    "        result*=i\n",
    "    return result\n",
    "print(multp(1,5))"
   ]
  },
  {
   "cell_type": "code",
   "execution_count": 6,
   "id": "22cbe9e2-0af1-40f8-9ef6-e4c978cb3ce0",
   "metadata": {},
   "outputs": [
    {
     "name": "stdout",
     "output_type": "stream",
     "text": [
      "7 -9\n",
      "1 -1\n"
     ]
    }
   ],
   "source": [
    "#실습 3 숫자형 리스트 - 양수값 더하고 음수값 더해\n",
    "def sum_pos_neg(l):\n",
    "    pos, neg = 0, 0\n",
    "    for i in l:\n",
    "        if i > 0:\n",
    "            pos += i\n",
    "        else:\n",
    "            neg += i\n",
    "    return pos, neg\n",
    "    \n",
    "possum, negsum = sum_pos_neg([3,4,-6,-3,0])\n",
    "print(possum,negsum)\n",
    "\n",
    "mylist = [0,0,0,0,0,0,1,-1]\n",
    "possum2, negsum2 = sum_pos_neg(mylist)\n",
    "print(possum2, negsum2)"
   ]
  },
  {
   "cell_type": "markdown",
   "id": "3deee590-a3ca-4cd1-86c7-112fae31e4af",
   "metadata": {},
   "source": [
    "---\n",
    "가변 매개변수 : 매개변수 몇개인지 몰라 *n\n",
    "</br>\n",
    "def 함수 이름 ( 알고 있는 매개변수, *모르는 매개변수)\n",
    "가변 매개변수는 하나만 사용가능하고, 제일 뒤에 와야함.!"
   ]
  },
  {
   "cell_type": "code",
   "execution_count": 34,
   "id": "08db4d44-203b-4328-8e99-b842abbafdcc",
   "metadata": {},
   "outputs": [
    {
     "name": "stdout",
     "output_type": "stream",
     "text": [
      "2\n"
     ]
    }
   ],
   "source": [
    "def count_even(*n):\n",
    "    cnt = 0\n",
    "    for v in n:\n",
    "        if v % 2 ==0:\n",
    "            cnt += 1\n",
    "    return cnt\n",
    "print(count_even(1,2,3,4,5))"
   ]
  },
  {
   "cell_type": "code",
   "execution_count": 65,
   "id": "74bc7762-72e3-41d7-9e7f-bba098943bc4",
   "metadata": {},
   "outputs": [
    {
     "name": "stdout",
     "output_type": "stream",
     "text": [
      "[1.5, 1.5] [7.5, 5.5] [4.13, 2.72]\n"
     ]
    }
   ],
   "source": [
    "#실습 4 2차원 벡터들 합구현\n",
    "def vector_sum(vector, *vectors):\n",
    "    nv = [0,0]\n",
    "    for i in range(0,2):\n",
    "        nv[i] += vector[i]\n",
    "    for v in vectors:\n",
    "        for i in range(0,2):\n",
    "            nv[i] += v[i]          \n",
    "    return nv\n",
    "\n",
    "\n",
    "\n",
    "#조교님 풀이\n",
    "def vec_sum(v1, *v2):\n",
    "    v_sum = [0,0]\n",
    "    v_sum[0] += v1[0]\n",
    "    v_sum[1] = v1[1]\n",
    "    for v in v2:\n",
    "        v_sum += v[0]\n",
    "        v_sum += v[1]\n",
    "    return v_sum\n",
    "\n",
    "\n",
    "v1 = [0,1]\n",
    "v2 = [0.5,0.5]\n",
    "v3 = [1,0]\n",
    "v4 = [6,4]\n",
    "v5 = [3.13,2.72]\n",
    "\n",
    "m1 = vector_sum(v1,v2,v3)\n",
    "m2 = vector_sum(v1, v2, v3, v4)\n",
    "m3 = vector_sum(v3, v5)\n",
    "print(m1,m2,m3)\n",
    "\n"
   ]
  },
  {
   "cell_type": "code",
   "execution_count": 60,
   "id": "a88c19ed-b6ac-4ed8-95cb-d50275740610",
   "metadata": {},
   "outputs": [
    {
     "name": "stdout",
     "output_type": "stream",
     "text": [
      "[1.5, 1.5] [7.5, 5.5] [4.13, 2.72] [1, 0]\n",
      "[0, 1]\n"
     ]
    }
   ],
   "source": [
    "def v_sum(v1,*v2):\n",
    "    # v = v1\n",
    "    # for val in v2:\n",
    "    #      v = [x + y for x,y in zip(v,val)]\n",
    "    # return v\n",
    "    for val in v2:\n",
    "         v1 = [x + y for x,y in zip(v1,val)]   #이름만 같지 다른 주소의 v1 새로운 list!\n",
    "    return v1\n",
    "\n",
    "v1 = [0,1]\n",
    "v2 = [0.5,0.5]\n",
    "v3 = [1,0]\n",
    "v4 = [6,4]\n",
    "v5 = [3.13,2.72]\n",
    "\n",
    "m1 = v_sum(v1,v2,v3)\n",
    "m2 = v_sum(v1, v2, v3, v4)\n",
    "m3 = v_sum(v3, v5)\n",
    "m4 = v_sum(v3)\n",
    "print(m1,m2,m3,m4)\n",
    "print(v1) "
   ]
  },
  {
   "cell_type": "markdown",
   "id": "51c30286-14de-41d9-9187-a3d84be6ffc1",
   "metadata": {},
   "source": [
    "---\n",
    "디폴트 매개변수\n",
    "</br> 앞에 디폴드값이면 그 뒤도 다 디폴트 값을 가져야함.\n",
    "</br> 일반 매개변수보다 뒤에 있어야함."
   ]
  },
  {
   "cell_type": "code",
   "execution_count": 64,
   "id": "50ffe88f-61d8-45c8-ab6c-d8272bcf41b7",
   "metadata": {},
   "outputs": [
    {
     "name": "stdout",
     "output_type": "stream",
     "text": [
      "yuna Hong\n",
      "Yuna Kim\n"
     ]
    }
   ],
   "source": [
    "def print_name(first, second = \"Kim\"):\n",
    "    print(first, second)\n",
    "\n",
    "print_name(\"yuna\", \"Hong\")\n",
    "print_name(\"Yuna\")"
   ]
  },
  {
   "cell_type": "code",
   "execution_count": 69,
   "id": "86209c70-5205-4e71-a5c9-58bdb61e8553",
   "metadata": {},
   "outputs": [
    {
     "name": "stdout",
     "output_type": "stream",
     "text": [
      "3\n",
      "2\n",
      "1\n",
      "6\n"
     ]
    }
   ],
   "source": [
    "def calc(a, b=0, c=0):\n",
    "    print(a)\n",
    "    print(b)\n",
    "    print(c)\n",
    "    return a+b+c\n",
    "# print(calc(1))\n",
    "# print(calc(1,2,3))\n",
    "# print(calc(1,2))\n",
    "print(calc(c = 1, a = 3, b =2))"
   ]
  },
  {
   "cell_type": "code",
   "execution_count": 110,
   "id": "70a0dd83-b937-41b1-8469-2d0cb2cea57d",
   "metadata": {},
   "outputs": [
    {
     "name": "stdout",
     "output_type": "stream",
     "text": [
      "[1, 1, 2, 2, 3, 5, 9]\n",
      "[0, 4, 6, 9]\n",
      "[0, 0]\n"
     ]
    }
   ],
   "source": [
    "#실습 5 숫자 구성 리스트 2 개 받아 합친 후 정렬해 새로운 리스트 반환\n",
    "def merge_list(l1 = [0,], l2 = [0,]):\n",
    "#    new_list = l1 + l2\n",
    "#    sorted_list = sorted(new_list)\n",
    "    # new_list.sort() #list 자체가 변화함\n",
    "    # print(sorted_list)\n",
    "    return sorted(l1 + l2) # 와 씨 대박\n",
    "#    return sorted_list\n",
    "\n",
    "l = [3,5,9,1,2]\n",
    "ml1 = merge_list(l,[2,1])\n",
    "ml2 = merge_list([6,9,4])\n",
    "ml3 = merge_list()\n",
    "print(ml1) # [1, 1, 2, 2, 3, 5, 9]\n",
    "print(ml2) # [0, 4, 6, 9]\n",
    "print(ml3) # [0, 0]"
   ]
  },
  {
   "cell_type": "markdown",
   "id": "72dc0f73-7a9c-4b7f-9ddb-9a67944505db",
   "metadata": {},
   "source": [
    "---\n",
    "지역변수, 전역변수"
   ]
  },
  {
   "cell_type": "markdown",
   "id": "c2f573d9-b64b-4a16-9871-167d27648e5a",
   "metadata": {},
   "source": [
    "-----\n",
    "## 모듈"
   ]
  },
  {
   "cell_type": "code",
   "execution_count": 123,
   "id": "a99b283b-d72e-4c62-b19b-e374c075b013",
   "metadata": {},
   "outputs": [
    {
     "data": {
      "text/plain": [
       "3628800"
      ]
     },
     "execution_count": 123,
     "metadata": {},
     "output_type": "execute_result"
    }
   ],
   "source": [
    "import math\n",
    "math.factorial(10)"
   ]
  },
  {
   "cell_type": "code",
   "execution_count": 124,
   "id": "587dcb02-3964-4c6e-b2e4-9060a805c504",
   "metadata": {},
   "outputs": [
    {
     "name": "stdout",
     "output_type": "stream",
     "text": [
      "3\n"
     ]
    }
   ],
   "source": [
    "from random import randint\n",
    "print(randint(0,10))"
   ]
  },
  {
   "cell_type": "code",
   "execution_count": 130,
   "id": "e0dd26f8-5ebe-41a9-ab7c-85b492dfd6a9",
   "metadata": {},
   "outputs": [],
   "source": [
    "import math\n",
    "# import tensorflow as tf\n",
    "import numpy as np\n",
    "# import matplotlib.pyplot as plt\n",
    "from math import *\n"
   ]
  },
  {
   "cell_type": "code",
   "execution_count": 104,
   "id": "66b6ff66-eabd-43e5-938e-95c697d62504",
   "metadata": {},
   "outputs": [
    {
     "name": "stdout",
     "output_type": "stream",
     "text": [
      "오늘 점심은 된장찌개입니다.\n"
     ]
    }
   ],
   "source": [
    "#실습 6 점심 메뉴 추천 프로그램\n",
    "import random as rd\n",
    "menu = [\"된장찌개\", \"부대찌개\", \"김치찌개\", \"삼계탕\", \"파스타\", \"돈까스\", \"쌀국수\"]\n",
    "pick = menu[rd.randint(0,len(menu))]\n",
    "print(\"오늘 점심은 {}입니다.\".format(pick))"
   ]
  },
  {
   "cell_type": "code",
   "execution_count": 149,
   "id": "963cfc95-200b-452d-bf94-f39ae7f4f33b",
   "metadata": {},
   "outputs": [
    {
     "name": "stdout",
     "output_type": "stream",
     "text": [
      "** 로또 번호 자동 기입을 시작합니다 **\n",
      "1번째 자동 기입 ==> 5 16 18 25 40 42\n",
      "2번째 자동 기입 ==> 11 19 20 27 33 37\n",
      "3번째 자동 기입 ==> 8 18 22 25 40 43\n",
      "4번째 자동 기입 ==> 5 25 26 30 39 40\n",
      "5번째 자동 기입 ==> 7 11 15 16 17 44\n",
      "6번째 자동 기입 ==> 12 17 19 23 26 30\n"
     ]
    }
   ],
   "source": [
    "#실습 7 로또 추첨 프로그램, 번호 중복되면 안된다.\n",
    "print(\"** 로또 번호 자동 기입을 시작합니다 **\")\n",
    "for i in range(0,6):\n",
    "    lot_num = sorted(rd.sample(range(1,46),6))\n",
    "    print(f\"{i+1}번째 자동 기입 ==>\",*lot_num) #*list하면 list값 다 나오게 됨~\n",
    "    "
   ]
  },
  {
   "cell_type": "code",
   "execution_count": 136,
   "id": "4c1f1564-d1af-41d6-9448-6451784602d8",
   "metadata": {},
   "outputs": [
    {
     "name": "stdout",
     "output_type": "stream",
     "text": [
      "1\n",
      "9\n",
      "[3, 5, 2]\n"
     ]
    }
   ],
   "source": [
    "#실습 8 리스트 최대, 최소, 제거\n",
    "def get_min_max(l):\n",
    "    min_v = min(l)\n",
    "    max_v = max(l)\n",
    "    l.remove(min_v)\n",
    "    l.remove(max_v)\n",
    "    return min_v, max_v\n",
    "\n",
    "l = [3,5,9,1,2]\n",
    "min_val, max_val = get_min_max(l)\n",
    "print(min_val)\n",
    "print(max_val)\n",
    "print(l)"
   ]
  },
  {
   "cell_type": "code",
   "execution_count": 143,
   "id": "a4c62911-1875-48a1-8941-4726186235b7",
   "metadata": {},
   "outputs": [
    {
     "name": "stdout",
     "output_type": "stream",
     "text": [
      "{'a': 3, 'b': 3, 'd': 7, 'e': 9, 'c': 4}\n"
     ]
    }
   ],
   "source": [
    "#실습 9 딕셔너리의 값 모두 더한 comb_dict\n",
    "def comb_dict(d1,d2):\n",
    "    d = {}\n",
    "    for key in d1.keys():\n",
    "        d[key] = d1[key]\n",
    "    for key in d2.keys():\n",
    "        if key in d: \n",
    "            d[key] += d2[key]\n",
    "        else:\n",
    "            d[key] = d2[key]\n",
    "    return d\n",
    "    \n",
    "d1 = {'a': 1, 'b': 3, 'd': 7, 'e': 8}\n",
    "d2 = {'a': 2, 'c': 4, 'e': 1}\n",
    "d3 = comb_dict(d1, d2)\n",
    "print(d3)"
   ]
  },
  {
   "cell_type": "code",
   "execution_count": 153,
   "id": "10799c37-db08-490a-8755-2237327e64e8",
   "metadata": {},
   "outputs": [
    {
     "name": "stdout",
     "output_type": "stream",
     "text": [
      "4\n",
      "300\n"
     ]
    }
   ],
   "source": [
    "#실습10 숫자 2개 이상 입력, 최대 최소 그 차이를 반환\n",
    "def diff(a, b,*c):\n",
    "    lst = [a,b]\n",
    "    for i in c:\n",
    "        lst.append(i)\n",
    "    minv = min(lst)\n",
    "    maxv = max(lst)\n",
    "    return maxv - minv\n",
    "print(diff(1,2,3,4,5))\n",
    "print(diff(-100, 200))\n",
    "#diff(1)"
   ]
  }
 ],
 "metadata": {
  "kernelspec": {
   "display_name": "Python 3 (ipykernel)",
   "language": "python",
   "name": "python3"
  },
  "language_info": {
   "codemirror_mode": {
    "name": "ipython",
    "version": 3
   },
   "file_extension": ".py",
   "mimetype": "text/x-python",
   "name": "python",
   "nbconvert_exporter": "python",
   "pygments_lexer": "ipython3",
   "version": "3.10.13"
  }
 },
 "nbformat": 4,
 "nbformat_minor": 5
}
