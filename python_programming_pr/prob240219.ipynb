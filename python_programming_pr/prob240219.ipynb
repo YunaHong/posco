{
 "cells": [
  {
   "cell_type": "code",
   "execution_count": 14,
   "id": "d66280fa-7a99-4785-bab8-eda1ca7f3f24",
   "metadata": {},
   "outputs": [
    {
     "name": "stdout",
     "output_type": "stream",
     "text": [
      "Hello, Wolrd!\n"
     ]
    }
   ],
   "source": [
    "#jupyter ipykernel pt\n",
    "# Hello, World! 출력\n",
    "print(\"Hello, Wolrd!\")"
   ]
  },
  {
   "cell_type": "code",
   "execution_count": 13,
   "id": "039e45dd-8bf8-4e6b-8c9c-61fbcf53eaec",
   "metadata": {},
   "outputs": [
    {
     "name": "stdin",
     "output_type": "stream",
     "text": [
      "첫 번째 정수를 입력하세요: 10\n",
      "두 번째 정수를 입력하세요: 5\n"
     ]
    },
    {
     "name": "stdout",
     "output_type": "stream",
     "text": [
      "10 + 5 = 15\n",
      "10 - 5 = 5\n",
      "10 * 5 = 50\n",
      "10 / 5 = 2.0\n"
     ]
    }
   ],
   "source": [
    "#prob1\n",
    "a = int(input(\"첫 번째 정수를 입력하세요:\"))\n",
    "b = int(input(\"두 번째 정수를 입력하세요:\"))\n",
    "while(b == 0):\n",
    "    print(\"0이 아닌 정수로 다시 입력하세요\")\n",
    "    b = int(input(\"두 번째 정수를 입력하세요:\"))\n",
    "print(\"%d + %d = %d\" %(a,b,a + b))\n",
    "print(\"%d - %d = %d\" %(a,b,a - b))\n",
    "print(\"%d * %d = %d\" %(a,b,a * b))\n",
    "print(\"%d / %d = %0.1f\" %(a,b,a / b))"
   ]
  },
  {
   "cell_type": "code",
   "execution_count": null,
   "id": "cdae55c1-8406-4c6b-a5aa-f58ba80f5e01",
   "metadata": {},
   "outputs": [],
   "source": []
  }
 ],
 "metadata": {
  "kernelspec": {
   "display_name": "Python 3 (ipykernel)",
   "language": "python",
   "name": "python3"
  },
  "language_info": {
   "codemirror_mode": {
    "name": "ipython",
    "version": 3
   },
   "file_extension": ".py",
   "mimetype": "text/x-python",
   "name": "python",
   "nbconvert_exporter": "python",
   "pygments_lexer": "ipython3",
   "version": "3.10.13"
  }
 },
 "nbformat": 4,
 "nbformat_minor": 5
}
