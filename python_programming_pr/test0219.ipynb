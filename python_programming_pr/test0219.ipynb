{
 "cells": [
  {
   "cell_type": "markdown",
   "id": "bb116e08-d328-4ba5-a05d-1e9d1f893c30",
   "metadata": {},
   "source": [
    "this is a markdown cell! "
   ]
  },
  {
   "cell_type": "code",
   "execution_count": 16,
   "id": "16830986-f72d-426f-a941-5191f2c71f98",
   "metadata": {},
   "outputs": [],
   "source": [
    "#import tensorflow"
   ]
  },
  {
   "cell_type": "markdown",
   "id": "ae51dcbf-fbfb-495e-9c63-0ad3de8beeda",
   "metadata": {},
   "source": [
    "### 집합\n",
    "순서 없이! 순서가 중요하면 리스트를 사용\n",
    "{} or set"
   ]
  },
  {
   "cell_type": "code",
   "execution_count": 17,
   "id": "f5de8507-613d-4010-8352-cf6a2be988e1",
   "metadata": {},
   "outputs": [],
   "source": [
    "import numpy"
   ]
  },
  {
   "cell_type": "code",
   "execution_count": 18,
   "id": "dce364a3-4665-4614-84ce-6ac48d507645",
   "metadata": {},
   "outputs": [],
   "source": [
    "a = {1,2,3,4,1,1,1}\n",
    "a_list = [1,2,3,4,1,1,1]\n",
    "c = [1,2,3,4]\n",
    "b = set(c)"
   ]
  },
  {
   "cell_type": "code",
   "execution_count": 19,
   "id": "6543da79-ca35-4f26-bbe6-d98e9112b9af",
   "metadata": {},
   "outputs": [
    {
     "data": {
      "text/plain": [
       "{1, 2, 3, 4}"
      ]
     },
     "execution_count": 19,
     "metadata": {},
     "output_type": "execute_result"
    }
   ],
   "source": [
    "a #집합 중복 X"
   ]
  },
  {
   "cell_type": "code",
   "execution_count": 20,
   "id": "04ea6995-6954-40c9-af21-c4e9d44b87d1",
   "metadata": {},
   "outputs": [
    {
     "data": {
      "text/plain": [
       "[1, 2, 3, 4]"
      ]
     },
     "execution_count": 20,
     "metadata": {},
     "output_type": "execute_result"
    }
   ],
   "source": [
    "c"
   ]
  },
  {
   "cell_type": "code",
   "execution_count": 21,
   "id": "084d1052-e265-4df5-8349-8949dcd0a70f",
   "metadata": {},
   "outputs": [
    {
     "data": {
      "text/plain": [
       "{1, 2, 3, 4}"
      ]
     },
     "execution_count": 21,
     "metadata": {},
     "output_type": "execute_result"
    }
   ],
   "source": [
    "b"
   ]
  },
  {
   "cell_type": "code",
   "execution_count": 22,
   "id": "c8dbf580-a5f1-4617-a8fe-c8b0a9885ae0",
   "metadata": {},
   "outputs": [
    {
     "data": {
      "text/plain": [
       "[1, 2, 3, 4, 1, 1, 1]"
      ]
     },
     "execution_count": 22,
     "metadata": {},
     "output_type": "execute_result"
    }
   ],
   "source": [
    "a_list"
   ]
  },
  {
   "cell_type": "code",
   "execution_count": 23,
   "id": "e621c4c6-2e42-4839-b986-b96209ffcc09",
   "metadata": {},
   "outputs": [
    {
     "data": {
      "text/plain": [
       "'H'"
      ]
     },
     "execution_count": 23,
     "metadata": {},
     "output_type": "execute_result"
    }
   ],
   "source": [
    "#문자열 기반 집합\n",
    "word = \"Hello\"*2\n",
    "word[0]"
   ]
  },
  {
   "cell_type": "code",
   "execution_count": 24,
   "id": "24f79b08-b42c-4170-a0e3-3be64f2a3f2f",
   "metadata": {},
   "outputs": [
    {
     "data": {
      "text/plain": [
       "{'H', 'e', 'l', 'o'}"
      ]
     },
     "execution_count": 24,
     "metadata": {},
     "output_type": "execute_result"
    }
   ],
   "source": [
    "word_s=set(word)\n",
    "word_s"
   ]
  },
  {
   "cell_type": "code",
   "execution_count": 25,
   "id": "2de91f9f-7416-441e-8ea0-d63d310761f6",
   "metadata": {},
   "outputs": [
    {
     "data": {
      "text/plain": [
       "[1, 2, 3, 4, 1, 1, 1, 9]"
      ]
     },
     "execution_count": 25,
     "metadata": {},
     "output_type": "execute_result"
    },
    {
     "name": "stdout",
     "output_type": "stream",
     "text": [
      "ERROR! Session/line number was not unique in database. History logging moved to new session 3\n"
     ]
    }
   ],
   "source": [
    "a_list.append(9)\n",
    "a_list"
   ]
  },
  {
   "cell_type": "code",
   "execution_count": 26,
   "id": "c9771738-98e8-4ded-bb7c-6f57272afb08",
   "metadata": {},
   "outputs": [
    {
     "data": {
      "text/plain": [
       "{1, 2, 3, 4, 10}"
      ]
     },
     "execution_count": 26,
     "metadata": {},
     "output_type": "execute_result"
    }
   ],
   "source": [
    "b.add(10)\n",
    "b"
   ]
  },
  {
   "cell_type": "code",
   "execution_count": 27,
   "id": "8b365df4-70cc-4b1c-a3b5-e0478ba5e491",
   "metadata": {},
   "outputs": [
    {
     "data": {
      "text/plain": [
       "{1, 2, 3, 4, 10}"
      ]
     },
     "execution_count": 27,
     "metadata": {},
     "output_type": "execute_result"
    }
   ],
   "source": [
    "b.add(3)\n",
    "b"
   ]
  },
  {
   "cell_type": "code",
   "execution_count": 28,
   "id": "40303e8a-7625-4755-a278-20f7846347c9",
   "metadata": {},
   "outputs": [
    {
     "data": {
      "text/plain": [
       "{1, 3, 4, 10}"
      ]
     },
     "execution_count": 28,
     "metadata": {},
     "output_type": "execute_result"
    }
   ],
   "source": [
    "b.remove(2) #없는 데이터를 지우려고 하면 에러가 남. \n",
    "b"
   ]
  },
  {
   "cell_type": "code",
   "execution_count": 35,
   "id": "05f97991-2e62-436c-ab33-94844a095429",
   "metadata": {},
   "outputs": [
    {
     "data": {
      "text/plain": [
       "{1, 3, 4, 10, 33, 34, 35}"
      ]
     },
     "execution_count": 35,
     "metadata": {},
     "output_type": "execute_result"
    }
   ],
   "source": [
    "b.discard(2) #set에 없는 원소여도 실행이 됨\n",
    "b"
   ]
  },
  {
   "cell_type": "code",
   "execution_count": 36,
   "id": "21509de9-b546-4ca7-a8ad-cabacd52f969",
   "metadata": {},
   "outputs": [
    {
     "data": {
      "text/plain": [
       "{1, 3, 4, 10, 33, 34, 35}"
      ]
     },
     "execution_count": 36,
     "metadata": {},
     "output_type": "execute_result"
    }
   ],
   "source": [
    "b.update([33,34,35])  #union계산 느낌.\n",
    "b"
   ]
  },
  {
   "cell_type": "code",
   "execution_count": 37,
   "id": "f07c29f8-a0b2-43c2-aa6e-50f47a2b01d1",
   "metadata": {},
   "outputs": [
    {
     "data": {
      "text/plain": [
       "{1, 2, 3, 4, 10, 33, 34, 35}"
      ]
     },
     "execution_count": 37,
     "metadata": {},
     "output_type": "execute_result"
    }
   ],
   "source": [
    "try:b.remove(2)\n",
    "except:b.add(2)\n",
    "b"
   ]
  },
  {
   "cell_type": "code",
   "execution_count": 39,
   "id": "34b1535c-4cd9-4279-99aa-2e634b409a93",
   "metadata": {},
   "outputs": [
    {
     "data": {
      "text/plain": [
       "set()"
      ]
     },
     "execution_count": 39,
     "metadata": {},
     "output_type": "execute_result"
    }
   ],
   "source": [
    "b.clear() #empty set\n",
    "b"
   ]
  },
  {
   "cell_type": "code",
   "execution_count": 41,
   "id": "4f375692-f2a7-45f6-9442-df3b5941b288",
   "metadata": {},
   "outputs": [
    {
     "data": {
      "text/plain": [
       "{1, 2, 3, 4, 5}"
      ]
     },
     "execution_count": 41,
     "metadata": {},
     "output_type": "execute_result"
    }
   ],
   "source": [
    "s1 = {1,2,3}\n",
    "s2 = {3,4,5}\n",
    "s1.union(s2) #update랑 무슨차이냐? - update는 집어넣어준다. 새로 저장됨. union은 원래 있던 집합을 건들지 않음."
   ]
  },
  {
   "cell_type": "code",
   "execution_count": 42,
   "id": "88bde9e5-b339-488b-82b2-dd905341ca29",
   "metadata": {},
   "outputs": [
    {
     "data": {
      "text/plain": [
       "{3}"
      ]
     },
     "execution_count": 42,
     "metadata": {},
     "output_type": "execute_result"
    }
   ],
   "source": [
    "s1.intersection(s2)"
   ]
  },
  {
   "cell_type": "code",
   "execution_count": 43,
   "id": "d00ed16b-ab65-4c86-9066-77d78782a686",
   "metadata": {},
   "outputs": [
    {
     "data": {
      "text/plain": [
       "{1, 2}"
      ]
     },
     "execution_count": 43,
     "metadata": {},
     "output_type": "execute_result"
    }
   ],
   "source": [
    "s1.difference(s2)"
   ]
  },
  {
   "cell_type": "code",
   "execution_count": 45,
   "id": "24bf899d-b641-43ca-9049-593a304b3bc7",
   "metadata": {},
   "outputs": [
    {
     "data": {
      "text/plain": [
       "{1, 2, 3, 4, 5}"
      ]
     },
     "execution_count": 45,
     "metadata": {},
     "output_type": "execute_result"
    }
   ],
   "source": [
    "s1|s2 #합집합 union"
   ]
  },
  {
   "cell_type": "code",
   "execution_count": 49,
   "id": "80ecd76e-e0b1-4d3c-8a8f-de31c36d4af4",
   "metadata": {},
   "outputs": [
    {
     "data": {
      "text/plain": [
       "{3}"
      ]
     },
     "execution_count": 49,
     "metadata": {},
     "output_type": "execute_result"
    }
   ],
   "source": [
    "s1&s2"
   ]
  },
  {
   "cell_type": "code",
   "execution_count": 51,
   "id": "900a83f7-7c85-4363-b0f0-3937bfc52c68",
   "metadata": {},
   "outputs": [
    {
     "data": {
      "text/plain": [
       "{1, 2}"
      ]
     },
     "execution_count": 51,
     "metadata": {},
     "output_type": "execute_result"
    }
   ],
   "source": [
    "s1 - s2"
   ]
  },
  {
   "cell_type": "code",
   "execution_count": 81,
   "id": "751725b6-e9a8-4038-97e6-877269fb6ca6",
   "metadata": {},
   "outputs": [
    {
     "name": "stdout",
     "output_type": "stream",
     "text": [
      "{75, 45, 15, 90, 60, 30}\n",
      "3과 5의 공배수: 6개\n",
      "{3, 6, 9, 12, 15, 18, 21, 24, 27, 30, 33, 36, 39, 42, 45, 48, 51, 54, 57, 60, 63, 66, 69, 72, 75, 78, 81, 84, 87, 90, 93, 96, 99}\n",
      "{75, 45, 15, 90, 60, 30}\n"
     ]
    }
   ],
   "source": [
    "#실습1 - 1~100 중 3과 5의 공배수 집합 형태\n",
    "s3 = set()\n",
    "s5 = set()\n",
    "for i in range(1,101):\n",
    "    if i % 3 == 0:\n",
    "        s3.add(i)\n",
    "    if i % 5 == 0:\n",
    "        s5.add(i)\n",
    "s = s3 & s5\n",
    "n = len(s)\n",
    "print(s)\n",
    "print(\"3과 5의 공배수: {}개\".format(n))\n",
    "\n",
    "#더 효율적인 방법!\n",
    "l1 = []\n",
    "l2 = []\n",
    "i = 1\n",
    "while 5*i<=100: #5의 배수인 아이들만. 판단\n",
    "    l1.append(5*i)\n",
    "    i+=1\n",
    "s1 = set(l1)\n",
    "i = 1\n",
    "while 3*i<=100: #5의 배수인 아이들만. 판단\n",
    "    l2.append(3*i)\n",
    "    i+=1\n",
    "s2 = set(l2)\n",
    "print(s2)\n",
    "print(s1&s2)"
   ]
  },
  {
   "cell_type": "markdown",
   "id": "e1eb399a-7fd8-444a-adc7-83cc8f4865ec",
   "metadata": {},
   "source": [
    "---\n",
    "\n",
    "## 딕셔너리\n",
    "{}, 키와 밸류 쌍으로 이루어짐, 키는 중복 불가"
   ]
  },
  {
   "cell_type": "code",
   "execution_count": 74,
   "id": "3dd967bf-eef5-4bf6-9df7-323be86df60e",
   "metadata": {},
   "outputs": [
    {
     "name": "stdout",
     "output_type": "stream",
     "text": [
      "{'kim': 1, 'park': 2}\n"
     ]
    }
   ],
   "source": [
    "dic= {}\n",
    "dic['kim'] = 1\n",
    "dic['park'] = 2\n",
    "print(dic)"
   ]
  },
  {
   "cell_type": "code",
   "execution_count": 91,
   "id": "1e0659f2-4a4e-4829-8dc9-91a920a4b32e",
   "metadata": {},
   "outputs": [
    {
     "data": {
      "text/plain": [
       "2"
      ]
     },
     "execution_count": 91,
     "metadata": {},
     "output_type": "execute_result"
    }
   ],
   "source": [
    "dic['park']"
   ]
  },
  {
   "cell_type": "code",
   "execution_count": 85,
   "id": "9f43fced-8515-4094-a3d4-d02891f2b973",
   "metadata": {},
   "outputs": [],
   "source": [
    "s = {} #중괄호는 빈 딕셔너리 만들어짐. 빈 셋을 만들라면 set() 사용"
   ]
  },
  {
   "cell_type": "code",
   "execution_count": 93,
   "id": "73d20cd9-ac5c-4171-aa84-c70cf74293dc",
   "metadata": {},
   "outputs": [
    {
     "name": "stdout",
     "output_type": "stream",
     "text": [
      "{'kim': 3, 'park': 2}\n",
      "{'kim': 3, 'park': 2, 'yun': 1}\n"
     ]
    }
   ],
   "source": [
    "dic['kim']=3\n",
    "print(dic)\n",
    "dic[\"yun\"] = 1\n",
    "print(dic)"
   ]
  },
  {
   "cell_type": "code",
   "execution_count": 96,
   "id": "c340af15-9f70-4029-a860-7fb03bea6763",
   "metadata": {},
   "outputs": [
    {
     "data": {
      "text/plain": [
       "dict_keys(['kim', 'park', 'yun'])"
      ]
     },
     "execution_count": 96,
     "metadata": {},
     "output_type": "execute_result"
    }
   ],
   "source": [
    "dic.keys()"
   ]
  },
  {
   "cell_type": "code",
   "execution_count": 97,
   "id": "4d9074a4-2237-460a-996f-11405e1c49b4",
   "metadata": {},
   "outputs": [
    {
     "data": {
      "text/plain": [
       "[('kim', 3), ('park', 2), ('yun', 1)]"
      ]
     },
     "execution_count": 97,
     "metadata": {},
     "output_type": "execute_result"
    }
   ],
   "source": [
    "list(dic.items()) #키와 값의 항목을 튜플 형태로"
   ]
  },
  {
   "cell_type": "code",
   "execution_count": 99,
   "id": "d95ea94a-7497-40a6-87ee-700696e6c6ee",
   "metadata": {},
   "outputs": [],
   "source": [
    "if 'ki' in dic:\n",
    "    print(di['ki'])\n",
    "#없어서 프린트 안됨"
   ]
  },
  {
   "cell_type": "code",
   "execution_count": 101,
   "id": "3f7c0d81-4cba-462c-9b28-c5ec51a9f5cb",
   "metadata": {},
   "outputs": [
    {
     "data": {
      "text/plain": [
       "{}"
      ]
     },
     "execution_count": 101,
     "metadata": {},
     "output_type": "execute_result"
    }
   ],
   "source": [
    "dic.clear()\n",
    "dic"
   ]
  },
  {
   "cell_type": "code",
   "execution_count": null,
   "id": "3e727a03-660c-4432-8846-13c83a15cc6b",
   "metadata": {},
   "outputs": [],
   "source": []
  },
  {
   "cell_type": "code",
   "execution_count": 106,
   "id": "7929a2ea-385b-4b65-8a03-cd75e2d525db",
   "metadata": {},
   "outputs": [
    {
     "name": "stdout",
     "output_type": "stream",
     "text": [
      "3 2 1 \n",
      "\n",
      "3 2 1 \n",
      "\n",
      "3 2 1 "
     ]
    }
   ],
   "source": [
    "#실습 2 for문을 사용하여 value 출력\n",
    "d = {'kim':3, 'park': 2, 'youn':1}\n",
    "v = list(d.values())\n",
    "for i in v:\n",
    "    print(i, end = ' ')\n",
    "\n",
    "print(\"\\n\")\n",
    "\n",
    "#직접 접근\n",
    "for z in d.values():\n",
    "    print(z, end = \" \")\n",
    "\n",
    "print(\"\\n\")\n",
    "\n",
    "# 더많이 사용하는 방법\n",
    "for key in d.keys():\n",
    "    print(d[key], end = \" \")"
   ]
  },
  {
   "cell_type": "code",
   "execution_count": 117,
   "id": "6c8ccf09-92ec-44c0-b3a7-0d0cc88f1406",
   "metadata": {},
   "outputs": [
    {
     "name": "stdin",
     "output_type": "stream",
     "text": [
      "Enter a sentence: hi\n"
     ]
    },
    {
     "name": "stdout",
     "output_type": "stream",
     "text": [
      "{'i': 1, 'h': 1}\n"
     ]
    }
   ],
   "source": [
    "#실습 3 \n",
    "str = input(\"Enter a sentence:\")\n",
    "#print(len(str))\n",
    "#print(str[1])\n",
    "# dic = {}\n",
    "# for i in range(0,len(str)):\n",
    "#     dic[len[i]] = 1\n",
    "# print(lst)\n",
    "\n",
    "#set 사용\n",
    "s = set(str) #중복되지 않게 -> 키값이 될 것들\n",
    "d = {}\n",
    "for w in s: \n",
    "    d[w] = 0 # 초기값 0개\n",
    "for w in str:\n",
    "    d[w] += 1 #문자 카운팅팅\n",
    "print(d)\n",
    "\n"
   ]
  },
  {
   "cell_type": "code",
   "execution_count": 120,
   "id": "5585c449-b328-468e-b02e-fa30a4ac20ef",
   "metadata": {},
   "outputs": [
    {
     "name": "stdin",
     "output_type": "stream",
     "text": [
      "Enter a sentence: Python is fun!\n"
     ]
    },
    {
     "name": "stdout",
     "output_type": "stream",
     "text": [
      "{'P': 0, 'y': 0, 't': 0, 'h': 0, 'o': 0, 'n': 1, ' ': 1, 'i': 0, 's': 0, 'f': 0, 'u': 0, '!': 0}\n"
     ]
    }
   ],
   "source": [
    "#바로 dictionary 사용\n",
    "str = input(\"Enter a sentence:\")\n",
    "d = {}\n",
    "for w in str:\n",
    "    if w in d:\n",
    "        d[w]+=1\n",
    "    else:\n",
    "        d[w] = 0\n",
    "print(d)"
   ]
  },
  {
   "cell_type": "markdown",
   "id": "7d99be1e-78df-4625-a269-2ae7cb4b64b6",
   "metadata": {},
   "source": [
    "---\n",
    "## list comprehension, zip()"
   ]
  },
  {
   "cell_type": "code",
   "execution_count": 122,
   "id": "a659d9e9-0f96-4cb6-afb4-16c21fc5e2af",
   "metadata": {},
   "outputs": [
    {
     "data": {
      "text/plain": [
       "[1, 2, 3, 4, 5]"
      ]
     },
     "execution_count": 122,
     "metadata": {},
     "output_type": "execute_result"
    }
   ],
   "source": [
    "l = [i for i in range(1,6)]\n",
    "l"
   ]
  },
  {
   "cell_type": "code",
   "execution_count": 123,
   "id": "8cbeacb0-3217-4716-86b0-c223126553a8",
   "metadata": {},
   "outputs": [
    {
     "data": {
      "text/plain": [
       "[1, 4, 9, 16, 25]"
      ]
     },
     "execution_count": 123,
     "metadata": {},
     "output_type": "execute_result"
    }
   ],
   "source": [
    "[i **2 for i in range(1,6)]"
   ]
  },
  {
   "cell_type": "code",
   "execution_count": 124,
   "id": "52409c20-40b9-4021-a7a2-07b11b651919",
   "metadata": {},
   "outputs": [
    {
     "data": {
      "text/plain": [
       "[2, 4]"
      ]
     },
     "execution_count": 124,
     "metadata": {},
     "output_type": "execute_result"
    }
   ],
   "source": [
    "[ i for i in range(1,6) if i %2 == 0]"
   ]
  },
  {
   "cell_type": "code",
   "execution_count": 127,
   "id": "0876351d-ee49-4665-b5d3-cf7dc39bd15d",
   "metadata": {},
   "outputs": [
    {
     "data": {
      "text/plain": [
       "[3, 4, 5, 6, 8, 10, 9, 12, 15]"
      ]
     },
     "execution_count": 127,
     "metadata": {},
     "output_type": "execute_result"
    }
   ],
   "source": [
    "l1 = [1,2,3]\n",
    "l2 = [3,4,5]\n",
    "[x * y for x in l1 for y in l2] \n",
    "# for x in l1: \n",
    "    # for y in l2: \n",
    "    #     x*y 와 같은 식임"
   ]
  },
  {
   "cell_type": "code",
   "execution_count": 129,
   "id": "206739c9-29c5-4fc8-8e17-35056fe9c0a2",
   "metadata": {},
   "outputs": [
    {
     "name": "stdout",
     "output_type": "stream",
     "text": [
      "yes\n"
     ]
    }
   ],
   "source": [
    "# A if 조건문 else B -> 조건문 참이면 A 거짓이면 B\n",
    "a = 1\n",
    "print(\"yes\") if a == 1 else print(\"no\")"
   ]
  },
  {
   "cell_type": "code",
   "execution_count": 131,
   "id": "7c534402-3e40-4772-a9fe-c561a1242e90",
   "metadata": {},
   "outputs": [
    {
     "data": {
      "text/plain": [
       "[(1, 4), (2, 5), (3, 6)]"
      ]
     },
     "execution_count": 131,
     "metadata": {},
     "output_type": "execute_result"
    }
   ],
   "source": [
    "#zip() -> 2개 이상의 리스트를 압축해서 하나로 만들어 주는 함수 \n",
    "# 같은 인덱스의 원소끼리 묶어서 \n",
    "# zip 형태라서 다시 list형태로 바꿔줘야 우리가 알 수 있는 형태\n",
    "list(zip([1,2,3],[4,5,6]))"
   ]
  },
  {
   "cell_type": "code",
   "execution_count": 132,
   "id": "79c89f03-ffb4-47bd-9e42-acc43024a55b",
   "metadata": {},
   "outputs": [
    {
     "data": {
      "text/plain": [
       "[5, 7, 9]"
      ]
     },
     "execution_count": 132,
     "metadata": {},
     "output_type": "execute_result"
    }
   ],
   "source": [
    "[sum(x) for x in zip((1,2,3), (4,5,6))]"
   ]
  },
  {
   "cell_type": "code",
   "execution_count": 133,
   "id": "7310c27f-d913-4fe8-b187-c4ed182cea91",
   "metadata": {},
   "outputs": [
    {
     "name": "stdout",
     "output_type": "stream",
     "text": [
      "{'one': 1, 'two': 2, 'three': 3, 'four': 4}\n"
     ]
    }
   ],
   "source": [
    "#실습 4 zip 사용하여 딕셔너리로 출력\n",
    "\n",
    "L1 = ['one', 'two', 'three', 'four']\n",
    "L2 = [1,2,3,4]\n",
    "L = list(zip(L1, L2))\n",
    "d = {}\n",
    "for x in L:\n",
    "    d[x[0]] = x[1]\n",
    "print(d)"
   ]
  },
  {
   "cell_type": "code",
   "execution_count": 135,
   "id": "8371c601-8650-4f6d-b577-8c93fc05d1f7",
   "metadata": {},
   "outputs": [
    {
     "name": "stdout",
     "output_type": "stream",
     "text": [
      "{'one': 1, 'two': 2, 'three': 3, 'four': 4}\n"
     ]
    }
   ],
   "source": [
    "#좀 더 간단한 방법 using dict() function\n",
    "L1 = ['one', 'two', 'three', 'four']\n",
    "L2 = [1,2,3,4]\n",
    "L = list(zip(L1, L2))\n",
    "d = dict(L) \n",
    "print(d)"
   ]
  },
  {
   "cell_type": "code",
   "execution_count": null,
   "id": "6ae66a87-c895-481d-976e-25e492d7db5c",
   "metadata": {},
   "outputs": [],
   "source": []
  }
 ],
 "metadata": {
  "kernelspec": {
   "display_name": "Python 3 (ipykernel)",
   "language": "python",
   "name": "python3"
  },
  "language_info": {
   "codemirror_mode": {
    "name": "ipython",
    "version": 3
   },
   "file_extension": ".py",
   "mimetype": "text/x-python",
   "name": "python",
   "nbconvert_exporter": "python",
   "pygments_lexer": "ipython3",
   "version": "3.10.13"
  }
 },
 "nbformat": 4,
 "nbformat_minor": 5
}
