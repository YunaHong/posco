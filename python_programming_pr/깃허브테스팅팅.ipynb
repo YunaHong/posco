{
 "cells": [
  {
   "cell_type": "markdown",
   "id": "2d60d346-12fa-4413-a7bf-02a8c182da4f",
   "metadata": {},
   "source": [
    "lst = []\n",
    "lst.append(1)\n",
    "for i in range(2,5):\n",
    "    lst.append(i)\n",
    "lst"
   ]
  }
 ],
 "metadata": {
  "kernelspec": {
   "display_name": "Python 3 (ipykernel)",
   "language": "python",
   "name": "python3"
  },
  "language_info": {
   "codemirror_mode": {
    "name": "ipython",
    "version": 3
   },
   "file_extension": ".py",
   "mimetype": "text/x-python",
   "name": "python",
   "nbconvert_exporter": "python",
   "pygments_lexer": "ipython3",
   "version": "3.10.13"
  }
 },
 "nbformat": 4,
 "nbformat_minor": 5
}
