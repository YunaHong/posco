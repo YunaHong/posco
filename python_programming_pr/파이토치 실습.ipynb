{
 "cells": [
  {
   "cell_type": "markdown",
   "id": "57856298-63ea-41a0-ba44-f7aac63bad76",
   "metadata": {},
   "source": [
    "# PyTorch\n",
    "### 수학적 계산 겸 신경망 구축 용 오픈 소스 라이브러리\n",
    "\n",
    "- PyTorch Tensors\n",
    "- - a = torch.tensor(mutable)\n",
    "  - numpy의 ndarray 와 같은 다차원 배열\n",
    "  - CUDA 지원 : gpu 연결\n",
    "- 모듈\n",
    "- -자동 미분, 최적화, NN 모듈\n",
    "\n",
    "</br>파이토치 쓰는 이유\n",
    "\n",
    "- 넘파이와 유사, 파이썬 시스템과 통합 쉬움, 텐서플로우에 비해 디버깅 쉬움\n",
    "- tensorflow의 잦은 변경 - 버전간 호환 어려움 .. 파이토치 더 선호\n",
    "- 최적화 능력은 좀 떨어지나(이론적으로는) 하지만 실제 성능의 차이는 미비함. (단점)"
   ]
  },
  {
   "cell_type": "code",
   "execution_count": 9,
   "id": "db2d2624-136d-4814-8522-c34a96d84611",
   "metadata": {},
   "outputs": [],
   "source": [
    "import torch\n",
    "#torch.cuda.is_available()"
   ]
  },
  {
   "cell_type": "code",
   "execution_count": 10,
   "id": "ccbb8382-b518-45d8-87ac-9eb3479fab6e",
   "metadata": {},
   "outputs": [],
   "source": [
    "import matplotlib.pyplot as plt\n",
    "from torch import nn\n",
    "from torch.utils.data import DataLoader\n",
    "from torchvision import datasets\n",
    "from torchvision.transforms import ToTensor\n",
    "import numpy as np\n",
    "import random"
   ]
  },
  {
   "cell_type": "code",
   "execution_count": null,
   "id": "edd216fb-6476-487c-810f-da8b2eaad3b4",
   "metadata": {},
   "outputs": [],
   "source": []
  }
 ],
 "metadata": {
  "kernelspec": {
   "display_name": "Python 3 (ipykernel)",
   "language": "python",
   "name": "python3"
  },
  "language_info": {
   "codemirror_mode": {
    "name": "ipython",
    "version": 3
   },
   "file_extension": ".py",
   "mimetype": "text/x-python",
   "name": "python",
   "nbconvert_exporter": "python",
   "pygments_lexer": "ipython3",
   "version": "3.10.13"
  }
 },
 "nbformat": 4,
 "nbformat_minor": 5
}
