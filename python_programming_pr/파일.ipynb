{
 "cells": [
  {
   "cell_type": "markdown",
   "id": "f5e1efe4-d91e-446e-8331-1d417e6a2665",
   "metadata": {},
   "source": [
    "## 파일\n",
    "f = open(\"파일이름\", \"열기모드\")\n",
    "</br> f.close()\n",
    "- r: 읽기모드 / 파일 처음부터 읽는다.\n",
    "- w: 쓰기 모드 / 새로운 파일 만들 때 권장. - 파일의 처음부터 쓰며, 없으면 생성되고, 이미 존재시 기존 내용 사라짐\n",
    "- a: 추가모드 / 파일의 마지막에 내용추가 , 파일 없으면 생성됨."
   ]
  },
  {
   "cell_type": "code",
   "execution_count": 6,
   "id": "4d890da0-141e-48a4-9284-1b9854e9cd27",
   "metadata": {},
   "outputs": [],
   "source": [
    "f = open(\"new.txt\", \"w\")\n",
    "\n",
    "for i in range(1,6):\n",
    "    f.write(\"%d line\\n\" %i)\n",
    "\n",
    "f.write(\"Hello, World!\")\n",
    "\n",
    "f.close()"
   ]
  },
  {
   "cell_type": "code",
   "execution_count": 11,
   "id": "5b39f7b0-4d55-4c5b-8296-94f9934cb658",
   "metadata": {},
   "outputs": [
    {
     "name": "stdout",
     "output_type": "stream",
     "text": [
      "1 line\n",
      "2 line\n",
      "['3 line\\n', '4 line\\n', '5 line\\n', 'Hello, World!']\n"
     ]
    }
   ],
   "source": [
    "f = open(\"new.txt\",\"r\")\n",
    "\n",
    "line = f.readline()\n",
    "print(line, end='')\n",
    "line = f.readline() # 다음 라인으로 넘어가게 되네\n",
    "print(line, end='')\n",
    "\n",
    "lines = f.readlines() # 각 문장들이 리스트로 나오게 되네\n",
    "print(lines)\n",
    "f.close()"
   ]
  },
  {
   "cell_type": "code",
   "execution_count": 16,
   "id": "ccdf0b85-b7ee-41ce-9360-70a59c134684",
   "metadata": {},
   "outputs": [
    {
     "name": "stdout",
     "output_type": "stream",
     "text": [
      "1 line\n",
      "2 line\n",
      "3 line\n",
      "4 line\n",
      "5 line\n",
      "Hello, World!\n"
     ]
    }
   ],
   "source": [
    "f = open(\"new.txt\",\"r\")\n",
    "data = f.read() #txt 형태로 표현이 되네\n",
    "print(data)\n",
    "f.close()"
   ]
  },
  {
   "cell_type": "code",
   "execution_count": 1,
   "id": "5c44cbf3-9ec4-47db-a0ee-2d43e7667a86",
   "metadata": {},
   "outputs": [
    {
     "name": "stdout",
     "output_type": "stream",
     "text": [
      "1 line\n",
      "2 line\n",
      "3 line\n",
      "4 line\n",
      "5 line\n",
      "Hello, World!"
     ]
    }
   ],
   "source": [
    "f = open(\"new.txt\",\"r\")\n",
    "for line in f:\n",
    "    print(line, end='')\n",
    "f.close()"
   ]
  },
  {
   "cell_type": "code",
   "execution_count": 4,
   "id": "c01adfd1-c6a2-4f1f-94a0-24fd5f32ffb6",
   "metadata": {},
   "outputs": [],
   "source": [
    "f = open(\"new.txt\", \"a\")\n",
    "f.write(\"\\n\")\n",
    "for i in range(6,11):\n",
    "    data = \"%d line\\n\" %i\n",
    "    f.write(data)\n",
    "f.close()"
   ]
  },
  {
   "cell_type": "code",
   "execution_count": 5,
   "id": "d308e726-c9e9-4c4a-9b3a-c37712d015f4",
   "metadata": {},
   "outputs": [],
   "source": [
    "with open(\"new.txt\",\"a\")as f: #close() 안써도 됨\n",
    "    f.write(\"야호\")"
   ]
  }
 ],
 "metadata": {
  "kernelspec": {
   "display_name": "Python 3 (ipykernel)",
   "language": "python",
   "name": "python3"
  },
  "language_info": {
   "codemirror_mode": {
    "name": "ipython",
    "version": 3
   },
   "file_extension": ".py",
   "mimetype": "text/x-python",
   "name": "python",
   "nbconvert_exporter": "python",
   "pygments_lexer": "ipython3",
   "version": "3.10.13"
  }
 },
 "nbformat": 4,
 "nbformat_minor": 5
}
